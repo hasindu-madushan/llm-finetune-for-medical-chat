{
 "cells": [
  {
   "cell_type": "markdown",
   "id": "51a40d16-2fc5-47a7-8023-633fb24547f0",
   "metadata": {},
   "source": [
    "# Imports"
   ]
  },
  {
   "cell_type": "code",
   "execution_count": null,
   "id": "31bb4a93-2d17-4994-a440-23107a47e0c2",
   "metadata": {},
   "outputs": [],
   "source": [
    "import pandas as pd\n",
    "import numpy as np\n",
    "from datasets import load_dataset, Dataset, DatasetDict, load_from_disk\n",
    "from transformers import (\n",
    "    AutoTokenizer, AutoModelForCausalLM,\n",
    "    TrainingArguments, Trainer,\n",
    "    DataCollatorForLanguageModeling,\n",
    "    DataCollatorWithPadding\n",
    ")\n",
    "from peft import PeftModel, get_peft_model, LoraConfig, TaskType, prepare_model_for_kbit_training\n",
    "from transformers import BitsAndBytesConfig\n",
    "import torch\n",
    "import wandb\n",
    "\n",
    "from utils import tokenize_dataset_for_qna\n",
    "from prompt_templates import domain_bound_qna_prompt_template as prompt_template"
   ]
  },
  {
   "cell_type": "markdown",
   "id": "706a1366-410f-4d33-9226-b1c6cebdacd6",
   "metadata": {},
   "source": [
    "# Configs"
   ]
  },
  {
   "cell_type": "code",
   "execution_count": null,
   "id": "0b247f35-dfcd-4b94-bd81-95bc57d829e8",
   "metadata": {},
   "outputs": [],
   "source": [
    "data_path = \"../data/domain_bound_data/\"\n",
    "train_data_path = data_path + \"train.csv\"\n",
    "val_data_path = data_path + \"val.csv\"\n",
    "\n",
    "max_len = 512\n",
    "\n",
    "base_model_path = \"../models/phi_qna_finetuned_attempt_4/final_pretrained\"\n",
    "\n",
    "model_id = \"microsoft/Phi-3.5-mini-instruct\"\n",
    "\n",
    "model_output_dir = \"../models/phi_domain_bound_qna_finetuned_attempt_1\""
   ]
  },
  {
   "cell_type": "markdown",
   "id": "58eceb44-4e47-418a-b767-c443edf822ff",
   "metadata": {},
   "source": [
    "# Hyperparameters"
   ]
  },
  {
   "cell_type": "code",
   "execution_count": null,
   "id": "082ee172-0d21-43db-96f7-9ba72c4baf28",
   "metadata": {},
   "outputs": [],
   "source": [
    "lora_r = 32\n",
    "lora_alpha = 64\n",
    "lora_target_modules = [\"q_proj\", \"v_proj\", \"k_proj\", \"o_proj\"]\n",
    "batch_size = 32\n",
    "quantization = None\n",
    "lora_dropout = 0.05\n",
    "epochs = 5\n",
    "learning_rate = 5e-5"
   ]
  },
  {
   "cell_type": "markdown",
   "id": "ad5e8dde-e44f-4718-8e99-f5fcb9b66cd0",
   "metadata": {},
   "source": [
    "# Dataset"
   ]
  },
  {
   "cell_type": "code",
   "execution_count": null,
   "id": "d4e2fda0-49ac-41b0-a2a8-03fbba8db2f3",
   "metadata": {},
   "outputs": [],
   "source": [
    "print(prompt_template)"
   ]
  },
  {
   "cell_type": "code",
   "execution_count": null,
   "id": "4358e35f-0f55-4458-ba55-014c149fddb3",
   "metadata": {},
   "outputs": [],
   "source": [
    "tokenizer = AutoTokenizer.from_pretrained(model_id, trust_remote_code=True)"
   ]
  },
  {
   "cell_type": "code",
   "execution_count": null,
   "id": "ac21737f-73e8-48e3-95b1-faf83a5f074a",
   "metadata": {
    "scrolled": true
   },
   "outputs": [],
   "source": [
    "val_df = pd.read_csv(val_data_path)\n",
    "train_df = pd.read_csv(train_data_path)\n",
    "\n",
    "val_set = tokenize_dataset_for_qna(tokenizer, val_df, prompt_template, max_len)\n",
    "train_set = tokenize_dataset_for_qna(tokenizer, train_df, prompt_template, max_len)"
   ]
  },
  {
   "cell_type": "code",
   "execution_count": null,
   "id": "6a201991-e1ec-4695-b68c-4504b6fb3d1a",
   "metadata": {
    "scrolled": true
   },
   "outputs": [],
   "source": [
    "train_set[0]"
   ]
  },
  {
   "cell_type": "code",
   "execution_count": null,
   "id": "f233469a-c003-4ea1-b113-2dc640ebf09e",
   "metadata": {},
   "outputs": [],
   "source": [
    "train_set.save_to_disk(data_path + \"tokenized\")\n",
    "# train_set = load_from_disk(data_path + \"tokenized\")"
   ]
  },
  {
   "cell_type": "code",
   "execution_count": null,
   "id": "1e4e383a-b0dd-4430-84e6-a72cca745d3e",
   "metadata": {},
   "outputs": [],
   "source": [
    "wandb.init(\n",
    "    project=\"med-domain_bound_qna_finetune\",\n",
    "    name=\"attempt_1\",\n",
    "    config={\n",
    "        \"model\": model_id,\n",
    "        \"lora_r\": lora_r,\n",
    "        \"lora_alpha\": lora_alpha,\n",
    "        \"batch_size\": batch_size,\n",
    "        \"epochs\": epochs,\n",
    "        \"quantization\": quantization,\n",
    "        \"lora_target_modules\": lora_target_modules\n",
    "    }\n",
    ")"
   ]
  },
  {
   "cell_type": "code",
   "execution_count": null,
   "id": "a4341cf2-34e2-444b-bbf5-710281ad62a5",
   "metadata": {},
   "outputs": [],
   "source": [
    "bnb_config = BitsAndBytesConfig(\n",
    "    load_in_4bit=quantization==\"4bit\",\n",
    "    bnb_4bit_use_double_quant=True,\n",
    "    bnb_4bit_quant_type=\"nf4\",\n",
    "    bnb_4bit_compute_dtype=torch.bfloat16\n",
    ")"
   ]
  },
  {
   "cell_type": "code",
   "execution_count": null,
   "id": "89f63831-2d8c-4824-973e-3b5f90e3ffbf",
   "metadata": {},
   "outputs": [],
   "source": [
    "model = AutoModelForCausalLM.from_pretrained(\n",
    "    base_model_path,\n",
    "    # quantization_config=bnb_config,\n",
    "    device_map=\"auto\",\n",
    "    trust_remote_code=True\n",
    ")"
   ]
  },
  {
   "cell_type": "code",
   "execution_count": null,
   "id": "f42d169c-852d-489e-9a1c-b6f9f6469d56",
   "metadata": {},
   "outputs": [],
   "source": [
    "model.gradient_checkpointing_enable()\n",
    "# model = prepare_model_for_kbit_training(model)"
   ]
  },
  {
   "cell_type": "code",
   "execution_count": null,
   "id": "fa8c15c0-f5f0-44dc-900f-292689b2c697",
   "metadata": {},
   "outputs": [],
   "source": [
    "lora_config = LoraConfig(\n",
    "    r=lora_r,\n",
    "    lora_alpha=lora_alpha,\n",
    "    target_modules=lora_target_modules,\n",
    "    lora_dropout=lora_dropout,\n",
    "    bias=\"none\",\n",
    "    task_type=TaskType.CAUSAL_LM\n",
    ")\n",
    "\n",
    "model = get_peft_model(model, lora_config)"
   ]
  },
  {
   "cell_type": "markdown",
   "id": "f33b5c62-72a2-4e23-871d-3a2233ec127d",
   "metadata": {},
   "source": [
    "# Train"
   ]
  },
  {
   "cell_type": "code",
   "execution_count": null,
   "id": "318af7f8-35ce-4311-819b-c278c6e93471",
   "metadata": {},
   "outputs": [],
   "source": [
    "training_args = TrainingArguments(\n",
    "    output_dir=model_output_dir,\n",
    "    per_device_train_batch_size=batch_size,\n",
    "    per_device_eval_batch_size=batch_size,\n",
    "    num_train_epochs=epochs,\n",
    "    eval_strategy=\"epoch\",  # ✅ eval at each epoch\n",
    "    save_strategy=\"epoch\",\n",
    "    logging_steps=50,\n",
    "    learning_rate=learning_rate,\n",
    "    warmup_steps=500,\n",
    "    fp16=True,\n",
    "    report_to=\"wandb\",\n",
    "    run_name=\"attempt_1\",\n",
    "    load_best_model_at_end=True,\n",
    "    metric_for_best_model=\"eval_loss\"\n",
    ")"
   ]
  },
  {
   "cell_type": "code",
   "execution_count": null,
   "id": "9b462a5f-3e8a-4897-bc0d-3fc498778fad",
   "metadata": {},
   "outputs": [],
   "source": [
    "trainer = Trainer(\n",
    "    model=model,\n",
    "    args=training_args,\n",
    "    train_dataset=train_set,\n",
    "    eval_dataset=val_set,\n",
    "    tokenizer=tokenizer,\n",
    "    data_collator=DataCollatorWithPadding(tokenizer, padding=False)\n",
    ")"
   ]
  },
  {
   "cell_type": "code",
   "execution_count": null,
   "id": "6b0cea96-6f0c-477f-8d91-79b91e000ca4",
   "metadata": {},
   "outputs": [],
   "source": [
    "trainer.train()\n",
    "\n",
    "trainer.save_model(model_output_dir + \"/final\")\n",
    "tokenizer.save_pretrained(model_output_dir + \"/final\")"
   ]
  },
  {
   "cell_type": "markdown",
   "id": "dcab8a00-a380-493d-93af-c66f77ef94c6",
   "metadata": {},
   "source": [
    "## Merge model with lora weights"
   ]
  },
  {
   "cell_type": "code",
   "execution_count": null,
   "id": "d7ad3e24-e26f-46eb-b85e-56341f359a28",
   "metadata": {},
   "outputs": [],
   "source": [
    "base_model = AutoModelForCausalLM.from_pretrained(\n",
    "    model_id,\n",
    "    # quantization_config=bnb_config,\n",
    "    device_map=\"auto\",\n",
    "    trust_remote_code=True\n",
    ")\n",
    "\n",
    "finetuned_model = PeftModel.from_pretrained(base_model, output_model_dir + \"/final\")\n",
    "merged_model = finetuned_model.merge_and_unload()"
   ]
  },
  {
   "cell_type": "code",
   "execution_count": null,
   "id": "bf5c5339-4f30-4dc8-a062-91c8b0ecc14f",
   "metadata": {},
   "outputs": [],
   "source": []
  },
  {
   "cell_type": "code",
   "execution_count": null,
   "id": "25254130-380f-4a0c-b23f-90a7b4801bb0",
   "metadata": {},
   "outputs": [],
   "source": [
    "model.save_pretrained(output_model_dir +  \"/final_pretrained\")"
   ]
  }
 ],
 "metadata": {
  "kernelspec": {
   "display_name": "Python 3 (ipykernel)",
   "language": "python",
   "name": "python3"
  },
  "language_info": {
   "codemirror_mode": {
    "name": "ipython",
    "version": 3
   },
   "file_extension": ".py",
   "mimetype": "text/x-python",
   "name": "python",
   "nbconvert_exporter": "python",
   "pygments_lexer": "ipython3",
   "version": "3.10.12"
  }
 },
 "nbformat": 4,
 "nbformat_minor": 5
}
