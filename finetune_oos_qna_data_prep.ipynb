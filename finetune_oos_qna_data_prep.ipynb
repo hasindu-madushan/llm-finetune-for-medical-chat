{
 "cells": [
  {
   "cell_type": "markdown",
   "id": "1b8c42e7-3e91-4bd3-90b9-bb0b91b12630",
   "metadata": {},
   "source": [
    "# Dataset for out-of-scope negative finetuning"
   ]
  },
  {
   "cell_type": "markdown",
   "id": "777ca6d6-357b-44fc-9fe9-4350752df1b7",
   "metadata": {},
   "source": [
    "## Imports"
   ]
  },
  {
   "cell_type": "code",
   "execution_count": null,
   "id": "6641bcf0-db9a-4fa0-86a0-c5e1a3b7ac6d",
   "metadata": {},
   "outputs": [],
   "source": [
    "import kagglehub\n",
    "from kagglehub import KaggleDatasetAdapter\n",
    "import json\n",
    "import pandas as pd"
   ]
  },
  {
   "cell_type": "code",
   "execution_count": null,
   "id": "cace4b4c-312b-4e20-b249-50778f41d247",
   "metadata": {},
   "outputs": [],
   "source": [
    "data_path = \"../data/domain_bound_data/\""
   ]
  },
  {
   "cell_type": "markdown",
   "id": "7075b8e0-ff1c-4661-be0f-2a3a5f98d259",
   "metadata": {},
   "source": [
    "## stanford-question-answering-dataset - Generate Q & A dataset"
   ]
  },
  {
   "cell_type": "code",
   "execution_count": null,
   "id": "9a25aeef-05b3-49e4-a9c3-c8ae34136079",
   "metadata": {},
   "outputs": [],
   "source": [
    "\n",
    "# Set the path to the file you'd like to load\n",
    "file_path = \"train-v1.1.json\"\n",
    "\n",
    "# Load the latest version\n",
    "general_qna_df = kagglehub.load_dataset(\n",
    "  KaggleDatasetAdapter.PANDAS,\n",
    "  \"stanfordu/stanford-question-answering-dataset\",\n",
    "  file_path\n",
    ")\n"
   ]
  },
  {
   "cell_type": "code",
   "execution_count": null,
   "id": "6d4cd4e2-c587-4de1-b4d3-60a2950c700b",
   "metadata": {},
   "outputs": [],
   "source": [
    "general_qna_df.head()"
   ]
  },
  {
   "cell_type": "code",
   "execution_count": null,
   "id": "f1412342-d17e-4ca3-94b1-b86ab2d210ce",
   "metadata": {
    "scrolled": true
   },
   "outputs": [],
   "source": [
    "for title in general_qna_df[\"data\"].apply(lambda data: data[\"title\"]).sort_values():\n",
    "    print(title)"
   ]
  },
  {
   "cell_type": "code",
   "execution_count": null,
   "id": "5cbb70e5-7473-4824-9c6b-7ed7e6fc2561",
   "metadata": {},
   "outputs": [],
   "source": [
    "medical_healthcare_topics = {\n",
    "    \"Antibiotics\",\n",
    "    \"Genome\",\n",
    "    \"Gene\",\n",
    "    \"Brain\",\n",
    "    \"Immunology\",\n",
    "    \"Digestion\",\n",
    "    \"Myocardial_infarction\",\n",
    "    \"Tuberculosis\",\n",
    "    \"Asthma\",\n",
    "    \"Diarrhea\",\n",
    "    \"Pain\",\n",
    "    \"Bacteria\",\n",
    "    \"Infection\",\n",
    "    \"Circadian_rhythm\",\n",
    "    \"Pharmaceutical_industry\",\n",
    "    \"Nutrition\",\n",
    "    \"Human_Development_Index\",\n",
    "}"
   ]
  },
  {
   "cell_type": "code",
   "execution_count": null,
   "id": "f605b4f7-1d6f-4578-8f2b-7f320886aa06",
   "metadata": {},
   "outputs": [],
   "source": [
    "general_qna_df_filtered = general_qna_df[general_qna_df[\"data\"].apply(lambda data: data[\"title\"] not in medical_healthcare_topics)]"
   ]
  },
  {
   "cell_type": "code",
   "execution_count": null,
   "id": "1333fb83-c96d-402c-8e78-342d9ad15ae9",
   "metadata": {},
   "outputs": [],
   "source": [
    "general_qna_df_filtered.iloc[0, 0][\"paragraphs\"][0][\"qas\"][0][\"question\"]"
   ]
  },
  {
   "cell_type": "code",
   "execution_count": null,
   "id": "448ea1c1-4f97-4191-b4e4-50feb465cdae",
   "metadata": {
    "scrolled": true
   },
   "outputs": [],
   "source": [
    "questions = []\n",
    "\n",
    "def find_questions(data):\n",
    "    for item in data[\"paragraphs\"]:\n",
    "        for qas in item[\"qas\"]:\n",
    "            questions.append(qas[\"question\"])\n",
    "\n",
    "general_qna_df_filtered[\"data\"].apply(find_questions)\n",
    "questions"
   ]
  },
  {
   "cell_type": "code",
   "execution_count": null,
   "id": "796ab6e1-664e-4ec5-af07-de7a4582db5a",
   "metadata": {},
   "outputs": [],
   "source": [
    "len(questions)"
   ]
  },
  {
   "cell_type": "code",
   "execution_count": null,
   "id": "20463910-e0d5-4518-a454-eb946ed884ef",
   "metadata": {},
   "outputs": [],
   "source": [
    "non_med_df = pd.DataFrame({\"question\": questions})"
   ]
  },
  {
   "cell_type": "code",
   "execution_count": null,
   "id": "c6bd5ed6-a857-4ad6-94a5-a712436ef79b",
   "metadata": {},
   "outputs": [],
   "source": [
    "non_med_df.shape"
   ]
  },
  {
   "cell_type": "code",
   "execution_count": null,
   "id": "ed70bb67-fc58-47db-a9c0-6c200d8617cf",
   "metadata": {},
   "outputs": [],
   "source": [
    "non_med_df = non_med_df.sample(frac=1, random_state=32).reset_index(drop=True)\n",
    "non_med_df.head()"
   ]
  },
  {
   "cell_type": "code",
   "execution_count": null,
   "id": "038fac8a-d08d-4af6-ba21-f69e7e816b5c",
   "metadata": {},
   "outputs": [],
   "source": [
    "non_med_df.to_csv(data_path + \"general_full.csv\")"
   ]
  },
  {
   "cell_type": "code",
   "execution_count": null,
   "id": "c07e9b0f-b5f0-4de3-9d2c-01de6dcc6eca",
   "metadata": {},
   "outputs": [],
   "source": [
    "non_med_df = pd.read_csv(data_path + \"general_full.csv\")"
   ]
  },
  {
   "cell_type": "code",
   "execution_count": null,
   "id": "f4a02a86-27fe-4da2-a6a4-c21a402810a6",
   "metadata": {},
   "outputs": [],
   "source": [
    "non_med_df.shape"
   ]
  },
  {
   "cell_type": "markdown",
   "id": "7d736b9e-b545-4178-9cfc-bd10629dd6f6",
   "metadata": {},
   "source": [
    "## Coding questions"
   ]
  },
  {
   "cell_type": "markdown",
   "id": "2f0aadf9-e6fb-4726-9426-5710002683f4",
   "metadata": {},
   "source": [
    "Add some coding question to negative sampling"
   ]
  },
  {
   "cell_type": "code",
   "execution_count": null,
   "id": "1320a323-ba2f-47ea-80b9-18516077b504",
   "metadata": {},
   "outputs": [],
   "source": [
    "coding_df = pd.read_csv(data_path + \"coding_questions.csv\")\n",
    "coding_df.head()"
   ]
  },
  {
   "cell_type": "code",
   "execution_count": null,
   "id": "791b4ad1-f1a2-435b-91b7-482a38c36cf0",
   "metadata": {},
   "outputs": [],
   "source": [
    "coding_df = coding_df.rename(columns={\"Question\": \"question\"})"
   ]
  },
  {
   "cell_type": "code",
   "execution_count": null,
   "id": "792d9118-686c-4f42-b3d3-419c28826c9d",
   "metadata": {
    "scrolled": true
   },
   "outputs": [],
   "source": [
    "non_med_qna_df = pd.concat([non_med_df.iloc[:2000, :], coding_df[\"question\"]])\n",
    "non_med_qna_df = non_med_qna_df.sample(frac=1, random_state=32).reset_index(drop=True)\n",
    "non_med_qna_df.head(30)"
   ]
  },
  {
   "cell_type": "code",
   "execution_count": null,
   "id": "a8480e75-2476-4684-b9e8-9fafce48768e",
   "metadata": {},
   "outputs": [],
   "source": [
    "non_med_qna_df.shape"
   ]
  },
  {
   "cell_type": "code",
   "execution_count": null,
   "id": "f4f730b7-3951-4016-bfb7-8ac2eb9eef51",
   "metadata": {},
   "outputs": [],
   "source": [
    "non_med_responses_df = pd.read_csv(data_path + \"non_med_responses.csv\")"
   ]
  },
  {
   "cell_type": "code",
   "execution_count": null,
   "id": "36042a00-df37-44f0-8966-dccd01e79bc4",
   "metadata": {},
   "outputs": [],
   "source": [
    "with open(data_path + \"non_med_responses.txt\", \"r\") as file:\n",
    "    non_med_responses = pd.Series(file.read().split(\"\\n\\n\"))\n",
    "non_med_responses"
   ]
  },
  {
   "cell_type": "code",
   "execution_count": null,
   "id": "ce01bbe2-e98e-4cfb-9a64-e19c888f471e",
   "metadata": {},
   "outputs": [],
   "source": [
    "non_med_responses.sample().iloc[0]"
   ]
  },
  {
   "cell_type": "code",
   "execution_count": null,
   "id": "9083b892-aded-4cba-8e9c-325692fd28b1",
   "metadata": {},
   "outputs": [],
   "source": [
    "# pair each non med question with a possible out of scope response\n",
    "non_med_qna_df[\"answer\"] = non_med_qna_df[\"question\"].apply(lambda _: non_med_responses.sample().iloc[0])"
   ]
  },
  {
   "cell_type": "code",
   "execution_count": null,
   "id": "7f6ed913-1e7d-4ae8-a0a0-26ca7d91bb79",
   "metadata": {},
   "outputs": [],
   "source": [
    "# add the class\n",
    "non_med_qna_df[\"class\"] = non_med_qna_df[\"question\"].apply(lambda _: \"non_med\")"
   ]
  },
  {
   "cell_type": "code",
   "execution_count": null,
   "id": "0cc4956b-9f66-4d1a-b251-aa6dc4d4e889",
   "metadata": {},
   "outputs": [],
   "source": [
    "non_med_qna_df.head()"
   ]
  },
  {
   "cell_type": "code",
   "execution_count": null,
   "id": "a105d397-feac-4569-85c1-1602c6dd1acc",
   "metadata": {},
   "outputs": [],
   "source": [
    "non_med_qna_df.to_csv(data_path + \"v7/non_med_qna.csv\")"
   ]
  },
  {
   "cell_type": "code",
   "execution_count": null,
   "id": "22470499-6b67-4b63-9b74-30b98a0c5f83",
   "metadata": {},
   "outputs": [],
   "source": [
    "non_med_qna_df = pd.read_csv(data_path + \"v2/non_med_qna.csv\")"
   ]
  },
  {
   "cell_type": "code",
   "execution_count": null,
   "id": "7968de33-9597-4d3c-8012-1b29f5d518b9",
   "metadata": {},
   "outputs": [],
   "source": [
    "non_med_qna_df.shape"
   ]
  },
  {
   "cell_type": "code",
   "execution_count": null,
   "id": "9a75657a-e2cc-4ad6-a429-7adde1787e3a",
   "metadata": {},
   "outputs": [],
   "source": [
    "non_med_qna_df.head(30)"
   ]
  },
  {
   "cell_type": "markdown",
   "id": "674761e0-694a-41eb-afdb-43b15c00ed53",
   "metadata": {},
   "source": [
    "# Medical domain questions"
   ]
  },
  {
   "cell_type": "code",
   "execution_count": null,
   "id": "fc925a32-b84d-4930-aa7a-531dbcb47090",
   "metadata": {},
   "outputs": [],
   "source": [
    "med_qna_df = pd.read_csv(data_path + \"qna_long_seq_filtered.csv\")\n",
    "med_qna_df = med_qna_df.loc[112300:, [\"question\", \"answer\"]]\n",
    "med_qna_df.head()"
   ]
  },
  {
   "cell_type": "code",
   "execution_count": null,
   "id": "01a8e52c-f78a-468a-9c0d-3e997a1cb0eb",
   "metadata": {},
   "outputs": [],
   "source": [
    "med_qna_df.shape"
   ]
  },
  {
   "cell_type": "code",
   "execution_count": null,
   "id": "2e08d66b-1bf9-49a9-8c43-d348d43af05b",
   "metadata": {},
   "outputs": [],
   "source": [
    "med_qna_df = med_qna_df.iloc[:5000, :].reset_index(drop=True)\n",
    "med_qna_df.head()"
   ]
  },
  {
   "cell_type": "code",
   "execution_count": null,
   "id": "7253b726-0ca2-4a82-a61c-4661cba4a684",
   "metadata": {},
   "outputs": [],
   "source": [
    "med_qna_df.shape"
   ]
  },
  {
   "cell_type": "code",
   "execution_count": null,
   "id": "d6b70fb8-0752-4a2f-899c-0802135d5648",
   "metadata": {},
   "outputs": [],
   "source": [
    "med_qna_df[\"class\"] = med_qna_df[\"question\"].apply(lambda _: \"med\")\n",
    "med_qna_df.head()"
   ]
  },
  {
   "cell_type": "code",
   "execution_count": null,
   "id": "9323082f-4d18-4551-b94d-96ac261708a1",
   "metadata": {},
   "outputs": [],
   "source": [
    "med_qna_df.to_csv(data_path + \"med_qna.csv\")"
   ]
  },
  {
   "cell_type": "code",
   "execution_count": null,
   "id": "4322a9ed-6c25-4bb6-b9a6-01c9ce800fe9",
   "metadata": {},
   "outputs": [],
   "source": [
    "med_qna_df = pd.read_csv(data_path + \"med_qna.csv\")\n",
    "med_qna_df.head()"
   ]
  },
  {
   "cell_type": "markdown",
   "id": "3952af92-6e1c-4e9a-9bf6-9620411190c8",
   "metadata": {},
   "source": [
    "## Combined data set"
   ]
  },
  {
   "cell_type": "code",
   "execution_count": null,
   "id": "59434915-3f42-4dcc-be48-969e13b7e5bb",
   "metadata": {},
   "outputs": [],
   "source": [
    "domain_bound_qna_df = pd.concat([non_med_qna_df, med_qna_df])"
   ]
  },
  {
   "cell_type": "code",
   "execution_count": null,
   "id": "8b085ba4-06cf-469e-89d6-9c80558e67b6",
   "metadata": {
    "scrolled": true
   },
   "outputs": [],
   "source": [
    "domain_bound_qna_df.head(30)"
   ]
  },
  {
   "cell_type": "code",
   "execution_count": null,
   "id": "a6758170-0050-4942-a4e8-408d712961c7",
   "metadata": {},
   "outputs": [],
   "source": [
    "domain_bound_qna_df = domain_bound_qna_df.sample(frac=1, random_state=32).reset_index(drop=True)"
   ]
  },
  {
   "cell_type": "code",
   "execution_count": null,
   "id": "ca5a6222-a002-4e01-8400-522d0f2e2cfc",
   "metadata": {},
   "outputs": [],
   "source": [
    "domain_bound_qna_df.shape"
   ]
  },
  {
   "cell_type": "code",
   "execution_count": null,
   "id": "f7c9b0b1-3e8a-4f49-8cca-abd55452854f",
   "metadata": {},
   "outputs": [],
   "source": [
    "train_df = domain_bound_qna_df.iloc[:6500, :]\n",
    "test_df = domain_bound_qna_df.iloc[6500:7000, :]\n",
    "val_df = domain_bound_qna_df.iloc[7000:, :]"
   ]
  },
  {
   "cell_type": "code",
   "execution_count": null,
   "id": "0d4f2ea9-bff4-448c-95f4-43432d99479d",
   "metadata": {},
   "outputs": [],
   "source": [
    "train_df.shape, test_df.shape, val_df.shape"
   ]
  },
  {
   "cell_type": "code",
   "execution_count": null,
   "id": "519800a3-51dc-4e69-9a2a-5efcca904d0e",
   "metadata": {},
   "outputs": [],
   "source": [
    "train_df.to_csv(data_path + \"v7/train.csv\", index=False)\n",
    "test_df.to_csv(data_path + \"v7/test.csv\", index=False)\n",
    "val_df.to_csv(data_path + \"v7/val.csv\", index=False)"
   ]
  },
  {
   "cell_type": "code",
   "execution_count": null,
   "id": "78e312a4-6131-4dec-bf33-7b8869906e89",
   "metadata": {},
   "outputs": [],
   "source": [
    "train_df.head(-50)"
   ]
  }
 ],
 "metadata": {
  "kernelspec": {
   "display_name": "Python 3 (ipykernel)",
   "language": "python",
   "name": "python3"
  },
  "language_info": {
   "codemirror_mode": {
    "name": "ipython",
    "version": 3
   },
   "file_extension": ".py",
   "mimetype": "text/x-python",
   "name": "python",
   "nbconvert_exporter": "python",
   "pygments_lexer": "ipython3",
   "version": "3.10.12"
  }
 },
 "nbformat": 4,
 "nbformat_minor": 5
}
