{
 "cells": [
  {
   "cell_type": "markdown",
   "id": "51a40d16-2fc5-47a7-8023-633fb24547f0",
   "metadata": {},
   "source": [
    "# Imports"
   ]
  },
  {
   "cell_type": "code",
   "execution_count": null,
   "id": "31bb4a93-2d17-4994-a440-23107a47e0c2",
   "metadata": {},
   "outputs": [],
   "source": [
    "import pandas as pd\n",
    "import numpy as np\n",
    "from datasets import load_dataset, Dataset, DatasetDict\n",
    "from transformers import (\n",
    "    AutoTokenizer, AutoModelForCausalLM,\n",
    "    TrainingArguments, Trainer,\n",
    "    DataCollatorForLanguageModeling\n",
    ")\n",
    "from peft import get_peft_model, LoraConfig, TaskType, prepare_model_for_kbit_training\n",
    "from transformers import BitsAndBytesConfig\n",
    "import torch\n",
    "import wandb"
   ]
  },
  {
   "cell_type": "markdown",
   "id": "706a1366-410f-4d33-9226-b1c6cebdacd6",
   "metadata": {},
   "source": [
    "# Configs"
   ]
  },
  {
   "cell_type": "code",
   "execution_count": null,
   "id": "0b247f35-dfcd-4b94-bd81-95bc57d829e8",
   "metadata": {},
   "outputs": [],
   "source": [
    "data_path = \"../data/qna/\"\n",
    "train_data_path = data_path + \"train.csv\"\n",
    "val_data_path = data_path + \"val.csv\"\n",
    "\n",
    "max_len = 512\n",
    "\n",
    "base_model_dir = \"../models/phi_qna_finetune_attempt_1\"\n",
    "\n",
    "model_id = \"microsoft/Phi-3.5-mini-instruct\""
   ]
  },
  {
   "cell_type": "markdown",
   "id": "58eceb44-4e47-418a-b767-c443edf822ff",
   "metadata": {},
   "source": [
    "# Hyperparameters"
   ]
  },
  {
   "cell_type": "code",
   "execution_count": null,
   "id": "082ee172-0d21-43db-96f7-9ba72c4baf28",
   "metadata": {},
   "outputs": [],
   "source": [
    "lora_r = 16\n",
    "lora_alpha = 32\n",
    "lora_target_modules = [\"q_proj\", \"v_proj\", \"o_proj\"]\n",
    "batch_size = 32\n",
    "quantization = None\n",
    "lora_dropout = 0.05\n",
    "epochs = 6\n",
    "learning_rate = 5e-5"
   ]
  },
  {
   "cell_type": "markdown",
   "id": "ad5e8dde-e44f-4718-8e99-f5fcb9b66cd0",
   "metadata": {},
   "source": [
    "# Dataset"
   ]
  },
  {
   "cell_type": "code",
   "execution_count": 4,
   "id": "d4e2fda0-49ac-41b0-a2a8-03fbba8db2f3",
   "metadata": {},
   "outputs": [
    {
     "name": "stdout",
     "output_type": "stream",
     "text": [
      "# Instruction:\n",
      "Assume you are an excellent doctor. Using your knowledge, answer the quesion given below.\n",
      "\n",
      "# Question: {question}\n",
      "\n",
      "# Answer:\n"
     ]
    }
   ],
   "source": [
    "prompt_template = \"\"\"\n",
    "# Instruction:\n",
    "Assume you are an excellent doctor. Using your knowledge, answer the quesion given below.\n",
    "\n",
    "# Question: {question}\n",
    "\n",
    "# Answer: \"\"\"\n",
    "prompt_template = prompt_template.strip()\n",
    "print(prompt_template)"
   ]
  },
  {
   "cell_type": "code",
   "execution_count": null,
   "id": "edf0bea8-2bd0-4794-8419-dd5c00ed03c1",
   "metadata": {},
   "outputs": [],
   "source": [
    "def tokenize(example):\n",
    "    prompt = prompt_template.format(question=example['question'])\n",
    "    answer = example[\"answer\"] + tokenizer.eos_token\n",
    "    full_text = prompt + answer\n",
    "    \n",
    "    # Tokenize prompt to get its length\n",
    "    prompt_tokens = tokenizer(\n",
    "        prompt,\n",
    "        truncation=False\n",
    "    )\n",
    "    \n",
    "    prompt_len = len(prompt_tokens[\"input_ids\"])\n",
    "    \n",
    "    # Tokenize full sequence once\n",
    "    tokenized = tokenizer(\n",
    "        full_text,\n",
    "        truncation=True,\n",
    "        max_length=max_len,\n",
    "        padding=\"max_length\",\n",
    "        return_attention_mask=True    \n",
    "    )\n",
    "    \n",
    "    # Convert to numpy arrays for faster operations\n",
    "    input_ids = np.array(tokenized[\"input_ids\"])\n",
    "    attention_mask = np.array(tokenized[\"attention_mask\"])\n",
    "    \n",
    "    # Create labels array and mask prompt portion efficiently\n",
    "    labels = input_ids.copy()\n",
    "    # Mask the prompt tokens\n",
    "    labels[:prompt_len] = -100\n",
    "    \n",
    "    # Update the tokenized dict with numpy arrays\n",
    "    tokenized[\"input_ids\"] = input_ids.tolist()\n",
    "    tokenized[\"attention_mask\"] = attention_mask.tolist()\n",
    "    tokenized[\"labels\"] = labels.tolist()\n",
    "    \n",
    "    return tokenized"
   ]
  },
  {
   "cell_type": "code",
   "execution_count": null,
   "id": "415aa2f4-298d-4f36-b9e3-647f3c14c6bb",
   "metadata": {},
   "outputs": [],
   "source": [
    "def tokenize_dataset(tokenizer, data_df):\n",
    "    dataset = Dataset.from_pandas(data_df)\n",
    "    dataset = dataset.map(tokenize, batched=False)\n",
    "    return dataset"
   ]
  },
  {
   "cell_type": "code",
   "execution_count": null,
   "id": "4358e35f-0f55-4458-ba55-014c149fddb3",
   "metadata": {},
   "outputs": [],
   "source": [
    "tokenizer = AutoTokenizer.from_pretrained(model_id, trust_remote_code=True)"
   ]
  },
  {
   "cell_type": "code",
   "execution_count": null,
   "id": "ac21737f-73e8-48e3-95b1-faf83a5f074a",
   "metadata": {},
   "outputs": [],
   "source": [
    "val_df = pd.read_csv(val_data_path)\n",
    "train_df = pd.read_csv(train_data_path)\n",
    "\n",
    "val_set = tokenize_dataset(tokenizer, val_df)\n",
    "train_set = tokenize_dataset(tokenizer, train_df)"
   ]
  },
  {
   "cell_type": "code",
   "execution_count": null,
   "id": "1e4e383a-b0dd-4430-84e6-a72cca745d3e",
   "metadata": {},
   "outputs": [],
   "source": [
    "wandb.init(\n",
    "    project=\"med-qna-finetune\",\n",
    "    name=\"attempt_1\",\n",
    "    config={\n",
    "        \"model\": model_id,\n",
    "        \"lora_r\": lora_r,\n",
    "        \"lora_alpha\": lora_alpha,\n",
    "        \"batch_size\": batch_size,\n",
    "        \"epochs\": epochs,\n",
    "        \"quantization\": quantization,\n",
    "        \"lora_target_modules\": lora_target_modules\n",
    "    }\n",
    ")"
   ]
  },
  {
   "cell_type": "code",
   "execution_count": null,
   "id": "a4341cf2-34e2-444b-bbf5-710281ad62a5",
   "metadata": {},
   "outputs": [],
   "source": [
    "bnb_config = BitsAndBytesConfig(\n",
    "    load_in_4bit=quantization==\"4bit\",\n",
    "    bnb_4bit_use_double_quant=True,\n",
    "    bnb_4bit_quant_type=\"nf4\",\n",
    "    bnb_4bit_compute_dtype=torch.bfloat16\n",
    ")"
   ]
  },
  {
   "cell_type": "code",
   "execution_count": null,
   "id": "89f63831-2d8c-4824-973e-3b5f90e3ffbf",
   "metadata": {},
   "outputs": [],
   "source": [
    "model = AutoModelForCausalLM.from_pretrained(\n",
    "    model_id,\n",
    "    # quantization_config=bnb_config,\n",
    "    device_map=\"auto\",\n",
    "    trust_remote_code=True\n",
    ")"
   ]
  },
  {
   "cell_type": "code",
   "execution_count": null,
   "id": "f42d169c-852d-489e-9a1c-b6f9f6469d56",
   "metadata": {},
   "outputs": [],
   "source": [
    "model.gradient_checkpointing_enable()\n",
    "# model = prepare_model_for_kbit_training(model)"
   ]
  },
  {
   "cell_type": "code",
   "execution_count": null,
   "id": "fa8c15c0-f5f0-44dc-900f-292689b2c697",
   "metadata": {},
   "outputs": [],
   "source": [
    "lora_config = LoraConfig(\n",
    "    r=lora_r,\n",
    "    lora_alpha=lora_alpha,\n",
    "    target_modules=lora_target_modules,\n",
    "    lora_dropout=lora_dropout,\n",
    "    bias=\"none\",\n",
    "    task_type=TaskType.CAUSAL_LM\n",
    ")\n",
    "\n",
    "model = get_peft_model(model, lora_config)"
   ]
  },
  {
   "cell_type": "markdown",
   "id": "f33b5c62-72a2-4e23-871d-3a2233ec127d",
   "metadata": {},
   "source": [
    "# Train"
   ]
  },
  {
   "cell_type": "code",
   "execution_count": null,
   "id": "318af7f8-35ce-4311-819b-c278c6e93471",
   "metadata": {},
   "outputs": [],
   "source": [
    "training_args = TrainingArguments(\n",
    "    output_dir=model_output_dir,\n",
    "    per_device_train_batch_size=batch_size,\n",
    "    per_device_eval_batch_size=batch_size,\n",
    "    num_train_epochs=epochs,\n",
    "    eval_strategy=\"epoch\",  # ✅ eval at each epoch\n",
    "    save_strategy=\"epoch\",\n",
    "    logging_steps=50,\n",
    "    learning_rate=learning_rate,\n",
    "    fp16=True,\n",
    "    report_to=\"wandb\",\n",
    "    run_name=\"attempt_3\",\n",
    "    load_best_model_at_end=True,\n",
    "    metric_for_best_model=\"eval_loss\"\n",
    ")"
   ]
  },
  {
   "cell_type": "code",
   "execution_count": null,
   "id": "9b462a5f-3e8a-4897-bc0d-3fc498778fad",
   "metadata": {},
   "outputs": [],
   "source": [
    "trainer = Trainer(\n",
    "    model=model,\n",
    "    args=training_args,\n",
    "    train_dataset=train_set,\n",
    "    eval_dataset=val_set,\n",
    "    tokenizer=tokenizer,\n",
    "    data_collator=DataCollatorForLanguageModeling(tokenizer, mlm=False)\n",
    ")"
   ]
  },
  {
   "cell_type": "code",
   "execution_count": null,
   "id": "6b0cea96-6f0c-477f-8d91-79b91e000ca4",
   "metadata": {},
   "outputs": [],
   "source": [
    "trainer.train()\n",
    "\n",
    "trainer.save_model(model_output_dir + \"/final\")\n",
    "tokenizer.save_pretrained(model_output_dir + \"/tokenizer\")"
   ]
  }
 ],
 "metadata": {
  "kernelspec": {
   "display_name": "Python 3 (ipykernel)",
   "language": "python",
   "name": "python3"
  },
  "language_info": {
   "codemirror_mode": {
    "name": "ipython",
    "version": 3
   },
   "file_extension": ".py",
   "mimetype": "text/x-python",
   "name": "python",
   "nbconvert_exporter": "python",
   "pygments_lexer": "ipython3",
   "version": "3.10.12"
  }
 },
 "nbformat": 4,
 "nbformat_minor": 5
}
