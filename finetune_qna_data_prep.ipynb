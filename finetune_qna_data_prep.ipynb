{
 "cells": [
  {
   "cell_type": "markdown",
   "id": "04ea1ec5-5dd6-40f4-8dfe-8076c4a5159d",
   "metadata": {},
   "source": [
    "# Prepare data for Q and A"
   ]
  },
  {
   "cell_type": "markdown",
   "id": "156cf9f3-c6b7-4adb-a7c6-200e04e71167",
   "metadata": {},
   "source": [
    "## Imports"
   ]
  },
  {
   "cell_type": "code",
   "execution_count": null,
   "id": "0d036ebf-e4f7-461d-a41c-439f1838b36f",
   "metadata": {},
   "outputs": [],
   "source": [
    "import pandas as pd\n",
    "import kagglehub\n",
    "from kagglehub import KaggleDatasetAdapter\n",
    "from datasets import load_dataset"
   ]
  },
  {
   "cell_type": "code",
   "execution_count": null,
   "id": "089e0066-24d9-44af-8c67-6431bd2a3d0d",
   "metadata": {
    "editable": true,
    "slideshow": {
     "slide_type": ""
    },
    "tags": []
   },
   "outputs": [],
   "source": [
    "qna_data_path = \"../data/qna/\"\n",
    "train_size = 110_000\n",
    "test_size = 2000\n",
    "val_size = 300"
   ]
  },
  {
   "cell_type": "markdown",
   "id": "ab7c5656-2f06-451f-b352-1822383f32f4",
   "metadata": {},
   "source": [
    "# Medical Conversation Corpus (100k+)"
   ]
  },
  {
   "cell_type": "code",
   "execution_count": null,
   "id": "2b7230a9-eaec-4f94-a548-1c345dfb2639",
   "metadata": {},
   "outputs": [],
   "source": [
    "# Download latest version\n",
    "path = kagglehub.dataset_download(\"thedevastator/medical-conversation-corpus-100k\")\n",
    "\n",
    "print(\"Path to dataset files:\", path)"
   ]
  },
  {
   "cell_type": "code",
   "execution_count": null,
   "id": "d4fa395a-1b1e-4f9a-aa7c-9dfde4af6451",
   "metadata": {},
   "outputs": [],
   "source": [
    "raw_path = \"../data/medical_convo_corpus/2/\""
   ]
  },
  {
   "cell_type": "code",
   "execution_count": null,
   "id": "42c664d0-64e1-4081-95f3-729713f1d0c1",
   "metadata": {},
   "outputs": [],
   "source": [
    "raw_test_df = pd.read_csv(raw_path + \"test.csv\")\n",
    "raw_train_df = pd.read_csv(raw_path + \"train.csv\")"
   ]
  },
  {
   "cell_type": "code",
   "execution_count": null,
   "id": "0d9568c1-f829-4544-9567-4253864580fa",
   "metadata": {},
   "outputs": [],
   "source": [
    "raw_corpus_df = pd.concat([raw_train_df, raw_test_df], ignore_index=True)"
   ]
  },
  {
   "cell_type": "code",
   "execution_count": null,
   "id": "36c5a979-b02a-4dce-982a-be95d5767ec9",
   "metadata": {},
   "outputs": [],
   "source": [
    "raw_corpus_df.iloc[-1, -1].replace(\"ChatDoctor\", \" Doctor \").split(\"\\n\")"
   ]
  },
  {
   "cell_type": "code",
   "execution_count": null,
   "id": "6ead1082-909c-4f49-b034-61c6384b3257",
   "metadata": {
    "editable": true,
    "scrolled": true,
    "slideshow": {
     "slide_type": ""
    },
    "tags": []
   },
   "outputs": [],
   "source": [
    "def process_row(row):\n",
    "    conversation_split = row[\"Conversation\"].split(\"\\n\")\n",
    "    quesion = conversation_split[1].replace(\"[|Human|]\", \"\").strip()\n",
    "    answer = conversation_split[2].replace(\"[|AI|]\", \"\").strip()\n",
    "    return pd.Series([quesion, answer])\n",
    "\n",
    "raw_corpus_df[[\"question\", \"answer\"]] = raw_corpus_df.apply(process_row, axis=1)"
   ]
  },
  {
   "cell_type": "code",
   "execution_count": null,
   "id": "0e89e808-c025-428a-8f84-10c5cbb3f568",
   "metadata": {},
   "outputs": [],
   "source": [
    "raw_corpus_df = raw_corpus_df.rename(columns={\"quesion\": \"question\"})"
   ]
  },
  {
   "cell_type": "code",
   "execution_count": null,
   "id": "96fb5ea7-d87f-41cf-b94f-32d29f866bbe",
   "metadata": {},
   "outputs": [],
   "source": [
    "raw_corpus_df.head()"
   ]
  },
  {
   "cell_type": "code",
   "execution_count": null,
   "id": "8b647bc5-a65f-4856-85ec-7046474dc3cb",
   "metadata": {},
   "outputs": [],
   "source": [
    "raw_corpus_df.loc[10, [\"question\", \"answer\"]]"
   ]
  },
  {
   "cell_type": "markdown",
   "id": "c6ef0ab8-dc8a-4428-bf75-b70c0e499adf",
   "metadata": {},
   "source": [
    "# Healthcare NLP: LLMs, Transformers, Datasets"
   ]
  },
  {
   "cell_type": "code",
   "execution_count": null,
   "id": "23ba7261-8eaa-4534-bedb-56b6b5013326",
   "metadata": {},
   "outputs": [],
   "source": [
    "kagglehub.dataset_download_file?"
   ]
  },
  {
   "cell_type": "code",
   "execution_count": null,
   "id": "9d861a09-ec23-42a5-b7ba-81d56ef1ab13",
   "metadata": {},
   "outputs": [],
   "source": [
    "path = kagglehub.dataset_download(\"jpmiller/layoutlm\", path=\"medquad.csv\")\n",
    "\n",
    "print(\"Path to dataset files:\", path)"
   ]
  },
  {
   "cell_type": "code",
   "execution_count": null,
   "id": "48a61a10-eaa3-418d-a478-f16d31cee41b",
   "metadata": {},
   "outputs": [],
   "source": [
    "raw_healthcare_df = pd.read_csv(path)"
   ]
  },
  {
   "cell_type": "code",
   "execution_count": null,
   "id": "ba46575e-3a2c-4ee8-8d21-24e9b0ffb93b",
   "metadata": {
    "editable": true,
    "slideshow": {
     "slide_type": ""
    },
    "tags": []
   },
   "outputs": [],
   "source": [
    "raw_healthcare_df.head()"
   ]
  },
  {
   "cell_type": "markdown",
   "id": "04e417e2-fc88-46fe-8c30-5bc2ef0f3fab",
   "metadata": {},
   "source": [
    "# UCSD26/medical_dialog"
   ]
  },
  {
   "cell_type": "code",
   "execution_count": null,
   "id": "610117ca-4ba7-416e-aadb-61698c1983b5",
   "metadata": {},
   "outputs": [],
   "source": [
    "raw_meddialog_dataset = load_dataset(\"UCSD26/medical_dialog\", \"processed.en\", split=\"all\")"
   ]
  },
  {
   "cell_type": "code",
   "execution_count": null,
   "id": "0fe2b540-688a-4a32-9992-a34ab24d4360",
   "metadata": {},
   "outputs": [],
   "source": [
    "raw_meddialog_df = raw_meddialog_dataset.to_pandas()"
   ]
  },
  {
   "cell_type": "code",
   "execution_count": null,
   "id": "b319d771-cb9d-4464-9a24-63a0ca8e5495",
   "metadata": {},
   "outputs": [],
   "source": [
    "raw_meddialog_df.head()"
   ]
  },
  {
   "cell_type": "code",
   "execution_count": null,
   "id": "fa2a502a-6285-4677-8e16-c930ec94fec5",
   "metadata": {
    "editable": true,
    "slideshow": {
     "slide_type": ""
    },
    "tags": []
   },
   "outputs": [],
   "source": [
    "# We only need q and a pairs\n",
    "raw_meddialog_df = raw_meddialog_df[raw_meddialog_df[\"utterances\"].apply(len) == 2]"
   ]
  },
  {
   "cell_type": "code",
   "execution_count": null,
   "id": "7cd27ce5-3520-4d3b-8683-f7aede6732fd",
   "metadata": {},
   "outputs": [],
   "source": [
    "raw_meddialog_df.iloc[0, 1]"
   ]
  },
  {
   "cell_type": "code",
   "execution_count": null,
   "id": "7457e84c-f471-44f1-b77c-3a3b6fb8b50e",
   "metadata": {},
   "outputs": [],
   "source": [
    "def get_q_and_a(utterences):\n",
    "    question = utterences[0].replace(\"patient:\", \"\").strip()\n",
    "    answer = utterences[1].replace(\"doctor:\", \"\").strip()\n",
    "    return pd.Series([question, answer])\n",
    "\n",
    "raw_meddialog_df[[\"question\", \"answer\"]] = raw_meddialog_df[\"utterances\"].apply(get_q_and_a)"
   ]
  },
  {
   "cell_type": "code",
   "execution_count": null,
   "id": "78193113-3be7-4027-8fe4-15f797b939da",
   "metadata": {},
   "outputs": [],
   "source": [
    "raw_meddialog_df.head()"
   ]
  },
  {
   "cell_type": "markdown",
   "id": "073bd44d-5d64-45f2-8e8d-83fa84442aca",
   "metadata": {},
   "source": [
    "# Combine"
   ]
  },
  {
   "cell_type": "code",
   "execution_count": null,
   "id": "dec552ce-a866-492b-8244-989dca09428a",
   "metadata": {},
   "outputs": [],
   "source": [
    "qna_df = pd.concat([raw_corpus_df[[\"question\", \"answer\"]], raw_healthcare_df[[\"question\", \"answer\"]], raw_meddialog_df[[\"question\", \"answer\"]]], ignore_index=True)"
   ]
  },
  {
   "cell_type": "code",
   "execution_count": null,
   "id": "bdf2f730-b783-44c0-8e20-a63a08f77357",
   "metadata": {
    "scrolled": true
   },
   "outputs": [],
   "source": [
    "qna_df.sample?"
   ]
  },
  {
   "cell_type": "code",
   "execution_count": null,
   "id": "102bef78-eeea-4ef5-a954-ee418664cb68",
   "metadata": {
    "editable": true,
    "scrolled": true,
    "slideshow": {
     "slide_type": ""
    },
    "tags": []
   },
   "outputs": [],
   "source": [
    "qna_df_shuffled = qna_df.sample(frac=1, random_state=32).reset_index(drop=True)"
   ]
  },
  {
   "cell_type": "code",
   "execution_count": null,
   "id": "39e1333e-088a-4d87-b2bb-1d6db021b573",
   "metadata": {},
   "outputs": [],
   "source": [
    "qna_df_shuffled.shape"
   ]
  },
  {
   "cell_type": "code",
   "execution_count": null,
   "id": "bdb1a52f-d265-4466-bba8-23faefc146e2",
   "metadata": {
    "editable": true,
    "slideshow": {
     "slide_type": ""
    },
    "tags": []
   },
   "outputs": [],
   "source": [
    "qna_df_shuffled.head(10)"
   ]
  },
  {
   "cell_type": "code",
   "execution_count": null,
   "id": "62625ca6-3cb3-43db-802a-fc4b061c5b30",
   "metadata": {},
   "outputs": [],
   "source": [
    "qna_df_shuffled.to_csv(qna_data_path + \"qna.csv\")"
   ]
  },
  {
   "cell_type": "code",
   "execution_count": null,
   "id": "9076e950-10b7-4a21-a05d-896d89be54da",
   "metadata": {},
   "outputs": [],
   "source": [
    "train_df = qna_df_shuffled.loc[:train_size -1, :]\n",
    "test_df = qna_df_shuffled.loc[train_size:train_size + test_size - 1, :]\n",
    "val_df = qna_df_shuffled.loc[train_size + test_size: train_size + test_size + val_size - 1, :]"
   ]
  },
  {
   "cell_type": "code",
   "execution_count": null,
   "id": "4b4d754d-8825-4729-b721-4d76bee02198",
   "metadata": {
    "editable": true,
    "slideshow": {
     "slide_type": ""
    },
    "tags": []
   },
   "outputs": [],
   "source": [
    "train_df.shape, test_df.shape, val_df.shape"
   ]
  },
  {
   "cell_type": "code",
   "execution_count": null,
   "id": "e40a6091-99ff-41f6-a7c6-32a13f36ca3b",
   "metadata": {
    "editable": true,
    "slideshow": {
     "slide_type": ""
    },
    "tags": []
   },
   "outputs": [],
   "source": [
    "train_df.to_csv(qna_data_path + \"train.csv\", index=False)\n",
    "test_df.to_csv(qna_data_path + \"test.csv\", index=False)\n",
    "val_df.to_csv(qna_data_path + \"val.csv\", index=False)"
   ]
  },
  {
   "cell_type": "code",
   "execution_count": null,
   "id": "f5fc4ff0-51f4-499b-b355-cf0334be5721",
   "metadata": {},
   "outputs": [],
   "source": [
    "from transformers import AutoTokenizer\n",
    "model_id = \"microsoft/Phi-3.5-mini-instruct\"\n",
    "tokenizer = AutoTokenizer.from_pretrained(model_id, trust_remote_code=True)"
   ]
  },
  {
   "cell_type": "code",
   "execution_count": null,
   "id": "cce47388-76f7-4ebd-8a45-8721cf908d8c",
   "metadata": {},
   "outputs": [],
   "source": [
    "prompt_template = \"\"\"\n",
    "# Instruction:\n",
    "Assume you are an excellent doctor. Using your knowledge, answer the quesion given below.\n",
    "\n",
    "# Question: {question}\n",
    "\n",
    "# Answer: \"\"\"\n",
    "prompt_template = prompt_template.strip()\n",
    "print(prompt_template)"
   ]
  },
  {
   "cell_type": "code",
   "execution_count": null,
   "id": "345cdfbf-b6ca-4e98-a9fb-f3008704a37e",
   "metadata": {},
   "outputs": [],
   "source": [
    "def calculate_token_counts(example):\n",
    "    prompt = prompt_template.format(question=example['question'])\n",
    "    answer = example[\"answer\"] + tokenizer.eos_token\n",
    "    \n",
    "    # Tokenize prompt to get its length\n",
    "    prompt_tokens = tokenizer(\n",
    "        prompt,\n",
    "        truncation=False\n",
    "    )\n",
    "    \n",
    "    prompt_len = len(prompt_tokens[\"input_ids\"])\n",
    "    \n",
    "    # Tokenize full sequence once\n",
    "    tokenized = tokenizer(\n",
    "        prompt,\n",
    "        answer,\n",
    "        truncation=False\n",
    "    )\n",
    "\n",
    "    full_len = len(tokenized[\"input_ids\"])\n",
    "    return pd.Series([prompt_len, full_len])"
   ]
  },
  {
   "cell_type": "code",
   "execution_count": null,
   "id": "0380dceb-92d9-45bf-b2c2-1c3463e78366",
   "metadata": {},
   "outputs": [],
   "source": [
    "qna_df = pd.read_csv(qna_data_path + \"qna.csv\")"
   ]
  },
  {
   "cell_type": "code",
   "execution_count": null,
   "id": "9c02c889-86e3-474b-9b6e-d5c0974b0245",
   "metadata": {},
   "outputs": [],
   "source": [
    "qna_df = qna_df[qna_df[\"answer\"].apply(type) == str]"
   ]
  },
  {
   "cell_type": "code",
   "execution_count": null,
   "id": "84d1a9e2-0dab-4a72-a745-07f58ebaf48b",
   "metadata": {},
   "outputs": [],
   "source": [
    "qna_df = qna_df[[\"question\", \"answer\"]].reset_index(drop=True)"
   ]
  },
  {
   "cell_type": "code",
   "execution_count": null,
   "id": "eb56ab81-b157-40b2-a31c-0d07ae260d64",
   "metadata": {},
   "outputs": [],
   "source": [
    "qna_df.iloc[:10, :].apply(calculate_token_counts, axis=1)"
   ]
  },
  {
   "cell_type": "code",
   "execution_count": null,
   "id": "6b51d58b-2caf-4235-87be-a1630cd4e89f",
   "metadata": {},
   "outputs": [],
   "source": [
    "qna_df[[\"n_prompt_tokens\", \"n_full_tokens\"]] = qna_df.apply(calculate_token_counts, axis=1)"
   ]
  },
  {
   "cell_type": "code",
   "execution_count": null,
   "id": "8ef95750-2002-4905-8ebf-f8fbf7d8207a",
   "metadata": {
    "scrolled": true
   },
   "outputs": [],
   "source": [
    "qna_df.head(30)"
   ]
  },
  {
   "cell_type": "code",
   "execution_count": null,
   "id": "4ccf556b-bf37-4c3b-9f3f-90591919d46d",
   "metadata": {},
   "outputs": [],
   "source": [
    "qna_df.shape"
   ]
  },
  {
   "cell_type": "code",
   "execution_count": null,
   "id": "2b367024-c0e7-4444-83a8-3c762d063001",
   "metadata": {},
   "outputs": [],
   "source": [
    "qna_df = qna_df[qna_df[\"n_full_tokens\"] < 512]"
   ]
  },
  {
   "cell_type": "code",
   "execution_count": null,
   "id": "57acf68d-29da-4a58-8b0a-7d0f232cdf34",
   "metadata": {},
   "outputs": [],
   "source": [
    "qna_df = qna_df.reset_index(drop=True)"
   ]
  },
  {
   "cell_type": "code",
   "execution_count": null,
   "id": "b8f64833-c9c0-4ce4-b8d9-1f34a71cbb12",
   "metadata": {},
   "outputs": [],
   "source": [
    "train_df = qna_df.loc[:train_size -1, [\"question\", \"answer\"]]\n",
    "test_df = qna_df.loc[train_size:train_size + test_size - 1, [\"question\", \"answer\"]]\n",
    "val_df = qna_df.loc[train_size + test_size: train_size + test_size + val_size - 1, [\"question\", \"answer\"]]"
   ]
  },
  {
   "cell_type": "code",
   "execution_count": null,
   "id": "ada967af-bc7a-4244-9b6b-9e447e2cc971",
   "metadata": {},
   "outputs": [],
   "source": [
    "train_df.head()"
   ]
  },
  {
   "cell_type": "code",
   "execution_count": null,
   "id": "684ab749-ac92-469d-8e04-ec50566593de",
   "metadata": {},
   "outputs": [],
   "source": [
    "train_df.shape, test_df.shape, val_df.shape"
   ]
  },
  {
   "cell_type": "code",
   "execution_count": null,
   "id": "f573dc79-6c15-4cbd-9d1b-013d2644a875",
   "metadata": {},
   "outputs": [],
   "source": [
    "train_df.to_csv(qna_data_path + \"train.csv\", index=False)\n",
    "test_df.to_csv(qna_data_path + \"test.csv\", index=False)\n",
    "val_df.to_csv(qna_data_path + \"val.csv\", index=False)"
   ]
  },
  {
   "cell_type": "code",
   "execution_count": null,
   "id": "751e3f4b-8028-4abf-81bc-b58d6151883c",
   "metadata": {},
   "outputs": [],
   "source": [
    "qna_df.to_csv(qna_data_path + \"qna_long_seq_filtered.csv\", index=False)"
   ]
  },
  {
   "cell_type": "code",
   "execution_count": null,
   "id": "301684bc-308f-4927-8da9-7c4b88383d29",
   "metadata": {},
   "outputs": [],
   "source": [
    "train_df = pd.read_csv(qna_data_path + \"train.csv\")"
   ]
  },
  {
   "cell_type": "code",
   "execution_count": null,
   "id": "48030b2b-5726-4962-a18a-fdd469236a52",
   "metadata": {},
   "outputs": [],
   "source": [
    "train_df.iloc[5, 0]"
   ]
  },
  {
   "cell_type": "code",
   "execution_count": null,
   "id": "8110afb9-a2fe-4686-9871-1ce893e91251",
   "metadata": {},
   "outputs": [],
   "source": []
  }
 ],
 "metadata": {
  "kernelspec": {
   "display_name": "Python 3 (ipykernel)",
   "language": "python",
   "name": "python3"
  },
  "language_info": {
   "codemirror_mode": {
    "name": "ipython",
    "version": 3
   },
   "file_extension": ".py",
   "mimetype": "text/x-python",
   "name": "python",
   "nbconvert_exporter": "python",
   "pygments_lexer": "ipython3",
   "version": "3.10.12"
  }
 },
 "nbformat": 4,
 "nbformat_minor": 5
}
