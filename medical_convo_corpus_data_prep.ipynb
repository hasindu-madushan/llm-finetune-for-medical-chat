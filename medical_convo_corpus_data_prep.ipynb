{
 "cells": [
  {
   "cell_type": "code",
   "execution_count": 3,
   "id": "0d036ebf-e4f7-461d-a41c-439f1838b36f",
   "metadata": {},
   "outputs": [],
   "source": [
    "import pandas as pd\n",
    "import kagglehub"
   ]
  },
  {
   "cell_type": "code",
   "execution_count": 1,
   "id": "2b7230a9-eaec-4f94-a548-1c345dfb2639",
   "metadata": {},
   "outputs": [
    {
     "name": "stderr",
     "output_type": "stream",
     "text": [
      "/home/super_admin/hasindu/myenv/lib/python3.10/site-packages/tqdm/auto.py:21: TqdmWarning: IProgress not found. Please update jupyter and ipywidgets. See https://ipywidgets.readthedocs.io/en/stable/user_install.html\n",
      "  from .autonotebook import tqdm as notebook_tqdm\n"
     ]
    },
    {
     "name": "stdout",
     "output_type": "stream",
     "text": [
      "Downloading from https://www.kaggle.com/api/v1/datasets/download/thedevastator/medical-conversation-corpus-100k?dataset_version_number=2...\n"
     ]
    },
    {
     "name": "stderr",
     "output_type": "stream",
     "text": [
      "100%|███████████████████████████████████████████████████████████████████████████████████████████████████████████████████████████████████████████████████████████████████████████████████████████████████| 44.3M/44.3M [00:00<00:00, 49.8MB/s]"
     ]
    },
    {
     "name": "stdout",
     "output_type": "stream",
     "text": [
      "Extracting files...\n"
     ]
    },
    {
     "name": "stderr",
     "output_type": "stream",
     "text": [
      "\n"
     ]
    },
    {
     "name": "stdout",
     "output_type": "stream",
     "text": [
      "Path to dataset files: /home/super_admin/.cache/kagglehub/datasets/thedevastator/medical-conversation-corpus-100k/versions/2\n"
     ]
    }
   ],
   "source": [
    "import kagglehub\n",
    "\n",
    "# Download latest version\n",
    "path = kagglehub.dataset_download(\"thedevastator/medical-conversation-corpus-100k\")\n",
    "\n",
    "print(\"Path to dataset files:\", path)"
   ]
  },
  {
   "cell_type": "code",
   "execution_count": 2,
   "id": "d4fa395a-1b1e-4f9a-aa7c-9dfde4af6451",
   "metadata": {},
   "outputs": [],
   "source": [
    "raw_path = \"../data/medical_convo_corpus/2/\"\n"
   ]
  },
  {
   "cell_type": "code",
   "execution_count": 4,
   "id": "42c664d0-64e1-4081-95f3-729713f1d0c1",
   "metadata": {},
   "outputs": [],
   "source": [
    "test_df = pd.read_csv(raw_path + \"test.csv\")"
   ]
  },
  {
   "cell_type": "code",
   "execution_count": 5,
   "id": "96fb5ea7-d87f-41cf-b94f-32d29f866bbe",
   "metadata": {},
   "outputs": [
    {
     "data": {
      "text/html": [
       "<div>\n",
       "<style scoped>\n",
       "    .dataframe tbody tr th:only-of-type {\n",
       "        vertical-align: middle;\n",
       "    }\n",
       "\n",
       "    .dataframe tbody tr th {\n",
       "        vertical-align: top;\n",
       "    }\n",
       "\n",
       "    .dataframe thead th {\n",
       "        text-align: right;\n",
       "    }\n",
       "</style>\n",
       "<table border=\"1\" class=\"dataframe\">\n",
       "  <thead>\n",
       "    <tr style=\"text-align: right;\">\n",
       "      <th></th>\n",
       "      <th>Conversation</th>\n",
       "    </tr>\n",
       "  </thead>\n",
       "  <tbody>\n",
       "    <tr>\n",
       "      <th>0</th>\n",
       "      <td>The conversation between human and AI assistan...</td>\n",
       "    </tr>\n",
       "    <tr>\n",
       "      <th>1</th>\n",
       "      <td>The conversation between human and AI assistan...</td>\n",
       "    </tr>\n",
       "    <tr>\n",
       "      <th>2</th>\n",
       "      <td>The conversation between human and AI assistan...</td>\n",
       "    </tr>\n",
       "    <tr>\n",
       "      <th>3</th>\n",
       "      <td>The conversation between human and AI assistan...</td>\n",
       "    </tr>\n",
       "    <tr>\n",
       "      <th>4</th>\n",
       "      <td>The conversation between human and AI assistan...</td>\n",
       "    </tr>\n",
       "  </tbody>\n",
       "</table>\n",
       "</div>"
      ],
      "text/plain": [
       "                                        Conversation\n",
       "0  The conversation between human and AI assistan...\n",
       "1  The conversation between human and AI assistan...\n",
       "2  The conversation between human and AI assistan...\n",
       "3  The conversation between human and AI assistan...\n",
       "4  The conversation between human and AI assistan..."
      ]
     },
     "execution_count": 5,
     "metadata": {},
     "output_type": "execute_result"
    }
   ],
   "source": [
    "test_df.head()"
   ]
  },
  {
   "cell_type": "code",
   "execution_count": 8,
   "id": "8b647bc5-a65f-4856-85ec-7046474dc3cb",
   "metadata": {},
   "outputs": [
    {
     "data": {
      "text/plain": [
       "'The conversation between human and AI assistant.\\n[|Human|] I have had a hard tumor like on my gums for a very long time. It grows big and pus comes out, now I notice my throat area is all red, and it gets quite large I n my upper right gum, pus leaks constantly. I am very concerned as now I am seeing changes I n the back of throat that does not look normal.Also my white blood count is very low, as well as Neutrophils is very low? 10 years now, never worried until I ve seen changes I n back of throat, coughing, coughing up mucus constantly.I did not realize I had to pay, should ve known.\\n[|AI|]  Hello, I read your problem, as you gave the detail it seems that this is because low white blood cells count, because in case of low white blood cells count immunity gets lower, and the body is more prone to infections and in the oral mucous membrane become necroses and gums and supporting structures destroy very rapidly. So I will suggest you please go to your physician as soon as possible and go for complete check up including complete blood count., and please take a proper treatment. After the treatment of this problem, visit to your dentist and take a proper dental treatment accordingly including scaling. Nothing to get worried, you will recover very soon. Take care Chat Doctor. \\n'"
      ]
     },
     "execution_count": 8,
     "metadata": {},
     "output_type": "execute_result"
    }
   ],
   "source": [
    "test_df.loc[10, \"Conversation\"]"
   ]
  }
 ],
 "metadata": {
  "kernelspec": {
   "display_name": "Python 3 (ipykernel)",
   "language": "python",
   "name": "python3"
  },
  "language_info": {
   "codemirror_mode": {
    "name": "ipython",
    "version": 3
   },
   "file_extension": ".py",
   "mimetype": "text/x-python",
   "name": "python",
   "nbconvert_exporter": "python",
   "pygments_lexer": "ipython3",
   "version": "3.10.12"
  }
 },
 "nbformat": 4,
 "nbformat_minor": 5
}
