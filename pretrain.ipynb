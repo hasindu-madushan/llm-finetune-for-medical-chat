{
 "cells": [
  {
   "cell_type": "markdown",
   "id": "59225850-22e1-4c48-a999-0847897a03f3",
   "metadata": {},
   "source": [
    "# Downstream"
   ]
  },
  {
   "cell_type": "markdown",
   "id": "df296c86-b127-495d-9731-15df211368f0",
   "metadata": {},
   "source": [
    "# Imports"
   ]
  },
  {
   "cell_type": "code",
   "execution_count": null,
   "id": "11296ccc-cb18-4748-9bbe-7869ddd756d5",
   "metadata": {
    "editable": true,
    "slideshow": {
     "slide_type": ""
    },
    "tags": []
   },
   "outputs": [],
   "source": [
    "import pandas as pd\n",
    "from datasets import load_dataset, Dataset, DatasetDict, load_from_disk\n",
    "from transformers import (\n",
    "    AutoTokenizer, AutoModelForCausalLM,\n",
    "    TrainingArguments, Trainer,\n",
    "    DataCollatorForLanguageModeling,\n",
    "    DataCollatorWithPadding\n",
    ")\n",
    "from peft import get_peft_model, LoraConfig, TaskType, prepare_model_for_kbit_training, PeftModel\n",
    "from transformers import BitsAndBytesConfig\n",
    "import torch\n",
    "import wandb\n",
    "\n",
    "from tokenize_functions import tokenize_pretrain_dataset"
   ]
  },
  {
   "cell_type": "markdown",
   "id": "bda4bd01-643d-42df-bfcc-501af14e26e7",
   "metadata": {},
   "source": [
    "# Configs"
   ]
  },
  {
   "cell_type": "code",
   "execution_count": null,
   "id": "75ec61d2-6470-4376-956e-ca7860ebeb7b",
   "metadata": {},
   "outputs": [],
   "source": [
    "attempt = \"attempt_5\"\n",
    "\n",
    "data_path = \"../data/pubmed_baseline/\"\n",
    "train_data_path = data_path + \"pubmed_train.csv\"\n",
    "val_data_path = data_path + \"pubmed_val.csv\"\n",
    "\n",
    "max_len = 360\n",
    "\n",
    "model_output_dir = f\"../models/phi_pubmed_pretrained_{attempt}\"\n",
    "\n",
    "model_id = \"microsoft/Phi-3.5-mini-instruct\""
   ]
  },
  {
   "cell_type": "markdown",
   "id": "b778aa67-797f-4f89-a01f-03bf0c8bf831",
   "metadata": {},
   "source": [
    "## Hyperparameters"
   ]
  },
  {
   "cell_type": "code",
   "execution_count": null,
   "id": "c824b99a-58ad-4709-a40c-5338c414bc64",
   "metadata": {
    "editable": true,
    "slideshow": {
     "slide_type": ""
    },
    "tags": []
   },
   "outputs": [],
   "source": [
    "lora_r = 24\n",
    "lora_alpha = 48\n",
    "lora_target_modules = [\"qkv_proj\"]\n",
    "batch_size = 32\n",
    "quantization = None\n",
    "lora_dropout = 0.05\n",
    "epochs = 3\n",
    "learning_rate = 1e-5\n",
    "warmup_steps = 600"
   ]
  },
  {
   "cell_type": "markdown",
   "id": "2d7abbe6-fdb9-4b58-9e04-48d37a0b22e1",
   "metadata": {},
   "source": [
    "# Dataset loading"
   ]
  },
  {
   "cell_type": "code",
   "execution_count": null,
   "id": "756460db-e534-440d-abe9-e4e9089fcc8a",
   "metadata": {},
   "outputs": [],
   "source": [
    "tokenizer = AutoTokenizer.from_pretrained(model_id, trust_remote_code=True)"
   ]
  },
  {
   "cell_type": "code",
   "execution_count": null,
   "id": "9283ff09-467a-46cd-816b-6ef6f3faf0b6",
   "metadata": {},
   "outputs": [],
   "source": [
    "val_df = pd.read_csv(val_data_path)\n",
    "train_df = pd.read_csv(train_data_path)"
   ]
  },
  {
   "cell_type": "code",
   "execution_count": null,
   "id": "488b4e7b-f08a-4cae-b95d-de8ab4453ecf",
   "metadata": {},
   "outputs": [],
   "source": [
    "val_set = tokenize_pretrain_dataset(tokenizer, val_df, max_len)\n",
    "train_set = tokenize_pretrain_dataset(tokenizer, train_df.loc[:200_001, :], max_len)"
   ]
  },
  {
   "cell_type": "markdown",
   "id": "d1d7c923-6704-49c1-aa29-276ab8a17ab4",
   "metadata": {},
   "source": [
    "# Setup"
   ]
  },
  {
   "cell_type": "code",
   "execution_count": null,
   "id": "b12ae009-404d-4ea5-953f-33721f74f2dd",
   "metadata": {
    "scrolled": true
   },
   "outputs": [],
   "source": [
    "wandb.init(\n",
    "    project=\"pubmed-pretrain\",\n",
    "    name=attempt,\n",
    "    config={\n",
    "        \"model\": model_id,\n",
    "        \"lora_r\": lora_r,\n",
    "        \"lora_alpha\": lora_alpha,\n",
    "        \"batch_size\": batch_size,\n",
    "        \"epochs\": epochs,\n",
    "        \"quantization\": quantization,\n",
    "        \"lora_target_modules\": lora_target_modules\n",
    "    }\n",
    ")"
   ]
  },
  {
   "cell_type": "markdown",
   "id": "2d2b74b4-f93e-41c8-936a-1b5564a650b8",
   "metadata": {},
   "source": [
    "## Model"
   ]
  },
  {
   "cell_type": "code",
   "execution_count": null,
   "id": "017d9825-af10-4ad0-bb79-77c3c2a2de80",
   "metadata": {},
   "outputs": [],
   "source": [
    "model = AutoModelForCausalLM.from_pretrained(\n",
    "    model_id,\n",
    "    device_map=\"auto\",\n",
    "    trust_remote_code=True\n",
    ")"
   ]
  },
  {
   "cell_type": "code",
   "execution_count": null,
   "id": "fb27353b-0289-4c08-a6bf-708622c7d808",
   "metadata": {},
   "outputs": [],
   "source": [
    "model.gradient_checkpointing_enable()"
   ]
  },
  {
   "cell_type": "code",
   "execution_count": null,
   "id": "8e8c6552-5082-447b-b93d-2749d752ec1a",
   "metadata": {
    "editable": true,
    "slideshow": {
     "slide_type": ""
    },
    "tags": []
   },
   "outputs": [],
   "source": [
    "lora_config = LoraConfig(\n",
    "    r=lora_r,\n",
    "    lora_alpha=lora_alpha,\n",
    "    target_modules=lora_target_modules,\n",
    "    lora_dropout=lora_dropout,\n",
    "    bias=\"none\",\n",
    "    task_type=TaskType.CAUSAL_LM\n",
    ")\n",
    "\n",
    "model = get_peft_model(model, lora_config)"
   ]
  },
  {
   "cell_type": "markdown",
   "id": "131d35b3-7819-4fa2-b33e-4c5126bc90ba",
   "metadata": {},
   "source": [
    "# Train"
   ]
  },
  {
   "cell_type": "code",
   "execution_count": null,
   "id": "6e019b64-3f77-4089-8b1d-5b372c7e8918",
   "metadata": {
    "scrolled": true
   },
   "outputs": [],
   "source": [
    "TrainingArguments?"
   ]
  },
  {
   "cell_type": "code",
   "execution_count": null,
   "id": "fe5a4630-6673-4e3a-b4f1-59d4437efd4a",
   "metadata": {},
   "outputs": [],
   "source": [
    "training_args = TrainingArguments(\n",
    "    output_dir=model_output_dir,\n",
    "    per_device_train_batch_size=batch_size,\n",
    "    per_device_eval_batch_size=batch_size,\n",
    "    num_train_epochs=epochs,\n",
    "    eval_strategy=\"epoch\",  # ✅ eval at each epoch\n",
    "    save_strategy=\"epoch\",\n",
    "    logging_steps=50,\n",
    "    learning_rate=learning_rate,\n",
    "    warmup_steps=warmup_steps,\n",
    "    fp16=True,\n",
    "    report_to=\"wandb\",\n",
    "    run_name=attempt,\n",
    "    load_best_model_at_end=True,\n",
    "    metric_for_best_model=\"eval_loss\"\n",
    ")"
   ]
  },
  {
   "cell_type": "code",
   "execution_count": null,
   "id": "9edc858a-f500-410c-bc0a-132f0d9d9bdf",
   "metadata": {
    "scrolled": true
   },
   "outputs": [],
   "source": [
    "trainer = Trainer(\n",
    "    model=model,\n",
    "    args=training_args,\n",
    "    train_dataset=train_set,\n",
    "    eval_dataset=val_set,\n",
    "    tokenizer=tokenizer,\n",
    "    data_collator=DataCollatorForLanguageModeling(tokenizer, mlm=False)\n",
    ")\n"
   ]
  },
  {
   "cell_type": "code",
   "execution_count": null,
   "id": "807a6cda-4d23-4bea-9646-4ecf0156b16d",
   "metadata": {},
   "outputs": [],
   "source": [
    "trainer.train()\n",
    "\n",
    "trainer.save_model(model_output_dir + \"/final\")\n",
    "tokenizer.save_pretrained(model_output_dir + \"/final\")"
   ]
  },
  {
   "cell_type": "markdown",
   "id": "f74e9f13-36a6-4cbd-a47f-43ba5ec4bb03",
   "metadata": {},
   "source": [
    "### Merge final model"
   ]
  },
  {
   "cell_type": "code",
   "execution_count": null,
   "id": "437a1f13-ae29-4fc7-9822-2eac9485a872",
   "metadata": {},
   "outputs": [],
   "source": [
    "base_model = AutoModelForCausalLM.from_pretrained(\n",
    "    model_id,    # quantization_config=bnb_config,\n",
    "    device_map=\"auto\",\n",
    "    trust_remote_code=True\n",
    ")\n",
    "\n",
    "finetuned_model = PeftModel.from_pretrained(base_model, model_output_dir + \"/final\")\n",
    "tokenizer = AutoTokenizer.from_pretrained(model_output_dir + \"/final\", trust_remote_code=True)\n",
    "merged_model = finetuned_model.merge_and_unload()"
   ]
  },
  {
   "cell_type": "code",
   "execution_count": null,
   "id": "1a978eb7-5815-47c2-9805-14a4e282a5e2",
   "metadata": {},
   "outputs": [],
   "source": [
    "merged_model.save_pretrained(model_output_dir +  \"/final_merged\", safe_serialization=True)\n",
    "tokenizer.save_pretrained(model_output_dir + \"/final_merged\")"
   ]
  }
 ],
 "metadata": {
  "kernelspec": {
   "display_name": "Python 3 (ipykernel)",
   "language": "python",
   "name": "python3"
  },
  "language_info": {
   "codemirror_mode": {
    "name": "ipython",
    "version": 3
   },
   "file_extension": ".py",
   "mimetype": "text/x-python",
   "name": "python",
   "nbconvert_exporter": "python",
   "pygments_lexer": "ipython3",
   "version": "3.10.12"
  }
 },
 "nbformat": 4,
 "nbformat_minor": 5
}
