{
 "cells": [
  {
   "cell_type": "code",
   "execution_count": 7,
   "id": "0d036ebf-e4f7-461d-a41c-439f1838b36f",
   "metadata": {},
   "outputs": [],
   "source": [
    "import pandas as pd\n",
    "import kagglehub\n",
    "from kagglehub import KaggleDatasetAdapter\n",
    "from datasets import load_dataset"
   ]
  },
  {
   "cell_type": "code",
   "execution_count": 40,
   "id": "089e0066-24d9-44af-8c67-6431bd2a3d0d",
   "metadata": {
    "editable": true,
    "slideshow": {
     "slide_type": ""
    },
    "tags": []
   },
   "outputs": [],
   "source": [
    "qna_data_path = \"../data/qna/\"\n",
    "train_size = 110_000\n",
    "test_size = 2000\n",
    "val_size = 300"
   ]
  },
  {
   "cell_type": "markdown",
   "id": "ab7c5656-2f06-451f-b352-1822383f32f4",
   "metadata": {},
   "source": [
    "# Medical Conversation Corpus (100k+)"
   ]
  },
  {
   "cell_type": "code",
   "execution_count": 1,
   "id": "2b7230a9-eaec-4f94-a548-1c345dfb2639",
   "metadata": {},
   "outputs": [
    {
     "name": "stderr",
     "output_type": "stream",
     "text": [
      "/home/super_admin/hasindu/myenv/lib/python3.10/site-packages/tqdm/auto.py:21: TqdmWarning: IProgress not found. Please update jupyter and ipywidgets. See https://ipywidgets.readthedocs.io/en/stable/user_install.html\n",
      "  from .autonotebook import tqdm as notebook_tqdm\n"
     ]
    },
    {
     "name": "stdout",
     "output_type": "stream",
     "text": [
      "Downloading from https://www.kaggle.com/api/v1/datasets/download/thedevastator/medical-conversation-corpus-100k?dataset_version_number=2...\n"
     ]
    },
    {
     "name": "stderr",
     "output_type": "stream",
     "text": [
      "100%|███████████████████████████████████████████████████████████████████████████████████████████████████████████████████████████████████████████████████████████████████████████████████████████████████| 44.3M/44.3M [00:00<00:00, 49.8MB/s]"
     ]
    },
    {
     "name": "stdout",
     "output_type": "stream",
     "text": [
      "Extracting files...\n"
     ]
    },
    {
     "name": "stderr",
     "output_type": "stream",
     "text": [
      "\n"
     ]
    },
    {
     "name": "stdout",
     "output_type": "stream",
     "text": [
      "Path to dataset files: /home/super_admin/.cache/kagglehub/datasets/thedevastator/medical-conversation-corpus-100k/versions/2\n"
     ]
    }
   ],
   "source": [
    "\n",
    "# Download latest version\n",
    "path = kagglehub.dataset_download(\"thedevastator/medical-conversation-corpus-100k\")\n",
    "\n",
    "print(\"Path to dataset files:\", path)"
   ]
  },
  {
   "cell_type": "code",
   "execution_count": 3,
   "id": "d4fa395a-1b1e-4f9a-aa7c-9dfde4af6451",
   "metadata": {},
   "outputs": [],
   "source": [
    "raw_path = \"../data/medical_convo_corpus/2/\"\n"
   ]
  },
  {
   "cell_type": "code",
   "execution_count": 9,
   "id": "42c664d0-64e1-4081-95f3-729713f1d0c1",
   "metadata": {},
   "outputs": [],
   "source": [
    "raw_test_df = pd.read_csv(raw_path + \"test.csv\")\n",
    "raw_train_df = pd.read_csv(raw_path + \"train.csv\")"
   ]
  },
  {
   "cell_type": "code",
   "execution_count": 21,
   "id": "0d9568c1-f829-4544-9567-4253864580fa",
   "metadata": {},
   "outputs": [],
   "source": [
    "raw_corpus_df = pd.concat([raw_train_df, raw_test_df], ignore_index=True)"
   ]
  },
  {
   "cell_type": "code",
   "execution_count": 23,
   "id": "36c5a979-b02a-4dce-982a-be95d5767ec9",
   "metadata": {},
   "outputs": [
    {
     "data": {
      "text/plain": [
       "['The conversation between human and AI assistant.',\n",
       " '[|Human|] hii, i  am male 31 years old. i have high cholestrol and i have been taking cholestrol tablets(atrovostatin) for the past 6 years. i have a fatlly liver, stage 2. my mother has a auto immune hep B  and liver cirrhosis.i had my liver function tests and all my readings were high. i am concerned about liver now. what odes the stage 2 means as far as fatty liver is concerned? any tips to slove this problem??',\n",
       " \"[|AI|]  HelloThanks for writing to  Doctor Fatty liver is a very common disease among young adults due to changing lifestyle. Most commonly it is due to obesity and sedentary life. It is also related to alcohol intake, altered lipid profile etc. In your case it is related to altered lipid profile. You need few other investigations like routine hologram, Random blood sugar(RBS), Liver function test(LFT), Renal function test(RFT). You should try to lose your weight if you are overweight. Fatty liver is a reversible condition, and it can be reversed by diet and lifestyle changes. You are getting right medicines, and should continue it. It may take 10-12 months to reverse the findings. You should be active in your daily life. You should avoid red meat and high fat milk products. Cook food in olive or canola oil. You should take limited salt in your diet. You should also avoid fried and junk food. Take a lot of fruits and vegetables. You should also increase your physical activity in the form of walking and exercise. You can also do meditation and yoga. It will help you a lot. Don't take stress in life. You will be fine. Get well soon. Take Care Chat Doctor. \",\n",
       " '']"
      ]
     },
     "execution_count": 23,
     "metadata": {},
     "output_type": "execute_result"
    }
   ],
   "source": [
    "raw_corpus_df.iloc[-1, -1].replace(\"ChatDoctor\", \" Doctor \").split(\"\\n\")"
   ]
  },
  {
   "cell_type": "code",
   "execution_count": 32,
   "id": "6ead1082-909c-4f49-b034-61c6384b3257",
   "metadata": {
    "editable": true,
    "scrolled": true,
    "slideshow": {
     "slide_type": ""
    },
    "tags": []
   },
   "outputs": [],
   "source": [
    "def process_row(row):\n",
    "    conversation_split = row[\"Conversation\"].split(\"\\n\")\n",
    "    quesion = conversation_split[1].replace(\"[|Human|]\", \"\").strip()\n",
    "    answer = conversation_split[2].replace(\"[|AI|]\", \"\").strip()\n",
    "    return pd.Series([quesion, answer])\n",
    "\n",
    "raw_corpus_df[[\"question\", \"answer\"]] = raw_corpus_df.apply(process_row, axis=1)"
   ]
  },
  {
   "cell_type": "code",
   "execution_count": 38,
   "id": "0e89e808-c025-428a-8f84-10c5cbb3f568",
   "metadata": {},
   "outputs": [],
   "source": [
    "raw_corpus_df = raw_corpus_df.rename(columns={\"quesion\": \"question\"})"
   ]
  },
  {
   "cell_type": "code",
   "execution_count": 39,
   "id": "96fb5ea7-d87f-41cf-b94f-32d29f866bbe",
   "metadata": {},
   "outputs": [
    {
     "data": {
      "text/html": [
       "<div>\n",
       "<style scoped>\n",
       "    .dataframe tbody tr th:only-of-type {\n",
       "        vertical-align: middle;\n",
       "    }\n",
       "\n",
       "    .dataframe tbody tr th {\n",
       "        vertical-align: top;\n",
       "    }\n",
       "\n",
       "    .dataframe thead th {\n",
       "        text-align: right;\n",
       "    }\n",
       "</style>\n",
       "<table border=\"1\" class=\"dataframe\">\n",
       "  <thead>\n",
       "    <tr style=\"text-align: right;\">\n",
       "      <th></th>\n",
       "      <th>Conversation</th>\n",
       "      <th>question</th>\n",
       "      <th>answer</th>\n",
       "    </tr>\n",
       "  </thead>\n",
       "  <tbody>\n",
       "    <tr>\n",
       "      <th>0</th>\n",
       "      <td>The conversation between human and AI assistan...</td>\n",
       "      <td>Hi.My names Ahdieh.I m from a small city in Ir...</td>\n",
       "      <td>Hello Addie! Welcome and thank you for asking ...</td>\n",
       "    </tr>\n",
       "    <tr>\n",
       "      <th>1</th>\n",
       "      <td>The conversation between human and AI assistan...</td>\n",
       "      <td>Hello and thank you for your time and assistan...</td>\n",
       "      <td>Hi, You need to focus more on doing exercises ...</td>\n",
       "    </tr>\n",
       "    <tr>\n",
       "      <th>2</th>\n",
       "      <td>The conversation between human and AI assistan...</td>\n",
       "      <td>Yes! I had double knee replacements on Feb. 20...</td>\n",
       "      <td>Hi Hope this message finds you in good health....</td>\n",
       "    </tr>\n",
       "    <tr>\n",
       "      <th>3</th>\n",
       "      <td>The conversation between human and AI assistan...</td>\n",
       "      <td>I m extremely itchy ALL OVER the place? I m ex...</td>\n",
       "      <td>YOUR DURATION OF DISEASE IS NOT KNOWN FROM HIS...</td>\n",
       "    </tr>\n",
       "    <tr>\n",
       "      <th>4</th>\n",
       "      <td>The conversation between human and AI assistan...</td>\n",
       "      <td>Hi Doctor, I need your help, im really worried...</td>\n",
       "      <td>Hello there, Thanks for writing your query, Br...</td>\n",
       "    </tr>\n",
       "  </tbody>\n",
       "</table>\n",
       "</div>"
      ],
      "text/plain": [
       "                                        Conversation  \\\n",
       "0  The conversation between human and AI assistan...   \n",
       "1  The conversation between human and AI assistan...   \n",
       "2  The conversation between human and AI assistan...   \n",
       "3  The conversation between human and AI assistan...   \n",
       "4  The conversation between human and AI assistan...   \n",
       "\n",
       "                                            question  \\\n",
       "0  Hi.My names Ahdieh.I m from a small city in Ir...   \n",
       "1  Hello and thank you for your time and assistan...   \n",
       "2  Yes! I had double knee replacements on Feb. 20...   \n",
       "3  I m extremely itchy ALL OVER the place? I m ex...   \n",
       "4  Hi Doctor, I need your help, im really worried...   \n",
       "\n",
       "                                              answer  \n",
       "0  Hello Addie! Welcome and thank you for asking ...  \n",
       "1  Hi, You need to focus more on doing exercises ...  \n",
       "2  Hi Hope this message finds you in good health....  \n",
       "3  YOUR DURATION OF DISEASE IS NOT KNOWN FROM HIS...  \n",
       "4  Hello there, Thanks for writing your query, Br...  "
      ]
     },
     "execution_count": 39,
     "metadata": {},
     "output_type": "execute_result"
    }
   ],
   "source": [
    "raw_corpus_df.head()"
   ]
  },
  {
   "cell_type": "code",
   "execution_count": 41,
   "id": "8b647bc5-a65f-4856-85ec-7046474dc3cb",
   "metadata": {},
   "outputs": [
    {
     "data": {
      "text/plain": [
       "question    i have shortness of breath, there is a pain on...\n",
       "answer      Hi, Dear,Thanks for your query to Chat Doctor....\n",
       "Name: 10, dtype: object"
      ]
     },
     "execution_count": 41,
     "metadata": {},
     "output_type": "execute_result"
    }
   ],
   "source": [
    "raw_corpus_df.loc[10, [\"question\", \"answer\"]]"
   ]
  },
  {
   "cell_type": "markdown",
   "id": "c6ef0ab8-dc8a-4428-bf75-b70c0e499adf",
   "metadata": {},
   "source": [
    "# Healthcare NLP: LLMs, Transformers, Datasets"
   ]
  },
  {
   "cell_type": "code",
   "execution_count": 45,
   "id": "23ba7261-8eaa-4534-bedb-56b6b5013326",
   "metadata": {},
   "outputs": [
    {
     "name": "stdout",
     "output_type": "stream",
     "text": [
      "Object `kagglehub.dataset_download_file` not found.\n"
     ]
    }
   ],
   "source": [
    "kagglehub.dataset_download_file?"
   ]
  },
  {
   "cell_type": "code",
   "execution_count": 46,
   "id": "9d861a09-ec23-42a5-b7ba-81d56ef1ab13",
   "metadata": {},
   "outputs": [
    {
     "name": "stdout",
     "output_type": "stream",
     "text": [
      "Downloading from https://www.kaggle.com/api/v1/datasets/download/jpmiller/layoutlm?dataset_version_number=16&file_name=medquad.csv...\n"
     ]
    },
    {
     "name": "stderr",
     "output_type": "stream",
     "text": [
      "100%|███████████████████████████████████████████████████████████████████████████████████████████████████████████████████████████████████████████████████████████████████████████████████████████████████| 4.95M/4.95M [00:00<00:00, 98.9MB/s]"
     ]
    },
    {
     "name": "stdout",
     "output_type": "stream",
     "text": [
      "Extracting zip of medquad.csv...\n",
      "Path to dataset files: /home/super_admin/.cache/kagglehub/datasets/jpmiller/layoutlm/versions/16/medquad.csv\n"
     ]
    },
    {
     "name": "stderr",
     "output_type": "stream",
     "text": [
      "\n"
     ]
    }
   ],
   "source": [
    "path = kagglehub.dataset_download(\"jpmiller/layoutlm\", path=\"medquad.csv\")\n",
    "\n",
    "print(\"Path to dataset files:\", path)"
   ]
  },
  {
   "cell_type": "code",
   "execution_count": 50,
   "id": "48a61a10-eaa3-418d-a478-f16d31cee41b",
   "metadata": {},
   "outputs": [],
   "source": [
    "raw_healthcare_df = pd.read_csv(path)"
   ]
  },
  {
   "cell_type": "code",
   "execution_count": 51,
   "id": "ba46575e-3a2c-4ee8-8d21-24e9b0ffb93b",
   "metadata": {
    "editable": true,
    "slideshow": {
     "slide_type": ""
    },
    "tags": []
   },
   "outputs": [
    {
     "data": {
      "text/html": [
       "<div>\n",
       "<style scoped>\n",
       "    .dataframe tbody tr th:only-of-type {\n",
       "        vertical-align: middle;\n",
       "    }\n",
       "\n",
       "    .dataframe tbody tr th {\n",
       "        vertical-align: top;\n",
       "    }\n",
       "\n",
       "    .dataframe thead th {\n",
       "        text-align: right;\n",
       "    }\n",
       "</style>\n",
       "<table border=\"1\" class=\"dataframe\">\n",
       "  <thead>\n",
       "    <tr style=\"text-align: right;\">\n",
       "      <th></th>\n",
       "      <th>question</th>\n",
       "      <th>answer</th>\n",
       "      <th>source</th>\n",
       "      <th>focus_area</th>\n",
       "    </tr>\n",
       "  </thead>\n",
       "  <tbody>\n",
       "    <tr>\n",
       "      <th>0</th>\n",
       "      <td>What is (are) Glaucoma ?</td>\n",
       "      <td>Glaucoma is a group of diseases that can damag...</td>\n",
       "      <td>NIHSeniorHealth</td>\n",
       "      <td>Glaucoma</td>\n",
       "    </tr>\n",
       "    <tr>\n",
       "      <th>1</th>\n",
       "      <td>What causes Glaucoma ?</td>\n",
       "      <td>Nearly 2.7 million people have glaucoma, a lea...</td>\n",
       "      <td>NIHSeniorHealth</td>\n",
       "      <td>Glaucoma</td>\n",
       "    </tr>\n",
       "    <tr>\n",
       "      <th>2</th>\n",
       "      <td>What are the symptoms of Glaucoma ?</td>\n",
       "      <td>Symptoms of Glaucoma  Glaucoma can develop in ...</td>\n",
       "      <td>NIHSeniorHealth</td>\n",
       "      <td>Glaucoma</td>\n",
       "    </tr>\n",
       "    <tr>\n",
       "      <th>3</th>\n",
       "      <td>What are the treatments for Glaucoma ?</td>\n",
       "      <td>Although open-angle glaucoma cannot be cured, ...</td>\n",
       "      <td>NIHSeniorHealth</td>\n",
       "      <td>Glaucoma</td>\n",
       "    </tr>\n",
       "    <tr>\n",
       "      <th>4</th>\n",
       "      <td>What is (are) Glaucoma ?</td>\n",
       "      <td>Glaucoma is a group of diseases that can damag...</td>\n",
       "      <td>NIHSeniorHealth</td>\n",
       "      <td>Glaucoma</td>\n",
       "    </tr>\n",
       "  </tbody>\n",
       "</table>\n",
       "</div>"
      ],
      "text/plain": [
       "                                 question  \\\n",
       "0                What is (are) Glaucoma ?   \n",
       "1                  What causes Glaucoma ?   \n",
       "2     What are the symptoms of Glaucoma ?   \n",
       "3  What are the treatments for Glaucoma ?   \n",
       "4                What is (are) Glaucoma ?   \n",
       "\n",
       "                                              answer           source  \\\n",
       "0  Glaucoma is a group of diseases that can damag...  NIHSeniorHealth   \n",
       "1  Nearly 2.7 million people have glaucoma, a lea...  NIHSeniorHealth   \n",
       "2  Symptoms of Glaucoma  Glaucoma can develop in ...  NIHSeniorHealth   \n",
       "3  Although open-angle glaucoma cannot be cured, ...  NIHSeniorHealth   \n",
       "4  Glaucoma is a group of diseases that can damag...  NIHSeniorHealth   \n",
       "\n",
       "  focus_area  \n",
       "0   Glaucoma  \n",
       "1   Glaucoma  \n",
       "2   Glaucoma  \n",
       "3   Glaucoma  \n",
       "4   Glaucoma  "
      ]
     },
     "execution_count": 51,
     "metadata": {},
     "output_type": "execute_result"
    }
   ],
   "source": [
    "raw_healthcare_df.head()"
   ]
  },
  {
   "cell_type": "markdown",
   "id": "04e417e2-fc88-46fe-8c30-5bc2ef0f3fab",
   "metadata": {},
   "source": [
    "# UCSD26/medical_dialog"
   ]
  },
  {
   "cell_type": "code",
   "execution_count": 54,
   "id": "610117ca-4ba7-416e-aadb-61698c1983b5",
   "metadata": {},
   "outputs": [],
   "source": [
    "raw_meddialog_dataset = load_dataset(\"UCSD26/medical_dialog\", \"processed.en\", split=\"all\")"
   ]
  },
  {
   "cell_type": "code",
   "execution_count": 56,
   "id": "0fe2b540-688a-4a32-9992-a34ab24d4360",
   "metadata": {},
   "outputs": [],
   "source": [
    "raw_meddialog_df = raw_meddialog_dataset.to_pandas()"
   ]
  },
  {
   "cell_type": "code",
   "execution_count": 60,
   "id": "b319d771-cb9d-4464-9a24-63a0ca8e5495",
   "metadata": {},
   "outputs": [
    {
     "data": {
      "text/html": [
       "<div>\n",
       "<style scoped>\n",
       "    .dataframe tbody tr th:only-of-type {\n",
       "        vertical-align: middle;\n",
       "    }\n",
       "\n",
       "    .dataframe tbody tr th {\n",
       "        vertical-align: top;\n",
       "    }\n",
       "\n",
       "    .dataframe thead th {\n",
       "        text-align: right;\n",
       "    }\n",
       "</style>\n",
       "<table border=\"1\" class=\"dataframe\">\n",
       "  <thead>\n",
       "    <tr style=\"text-align: right;\">\n",
       "      <th></th>\n",
       "      <th>description</th>\n",
       "      <th>utterances</th>\n",
       "    </tr>\n",
       "  </thead>\n",
       "  <tbody>\n",
       "    <tr>\n",
       "      <th>0</th>\n",
       "      <td>throat a bit sore and want to get a good imune...</td>\n",
       "      <td>[patient: throat a bit sore and want to get a ...</td>\n",
       "    </tr>\n",
       "    <tr>\n",
       "      <th>1</th>\n",
       "      <td>hey there i have had cold \"symptoms\" for over ...</td>\n",
       "      <td>[patient: hey there i have had cold \"symptoms\"...</td>\n",
       "    </tr>\n",
       "    <tr>\n",
       "      <th>2</th>\n",
       "      <td>i have a tight and painful chest with a dry co...</td>\n",
       "      <td>[patient: i have a tight and painful chest wit...</td>\n",
       "    </tr>\n",
       "    <tr>\n",
       "      <th>3</th>\n",
       "      <td>what will happen after the incubation period f...</td>\n",
       "      <td>[patient: what will happen after the incubatio...</td>\n",
       "    </tr>\n",
       "    <tr>\n",
       "      <th>4</th>\n",
       "      <td>suggest treatment for pneumonia</td>\n",
       "      <td>[patient: just found out i was pregnant. yeste...</td>\n",
       "    </tr>\n",
       "  </tbody>\n",
       "</table>\n",
       "</div>"
      ],
      "text/plain": [
       "                                         description  \\\n",
       "0  throat a bit sore and want to get a good imune...   \n",
       "1  hey there i have had cold \"symptoms\" for over ...   \n",
       "2  i have a tight and painful chest with a dry co...   \n",
       "3  what will happen after the incubation period f...   \n",
       "4                    suggest treatment for pneumonia   \n",
       "\n",
       "                                          utterances  \n",
       "0  [patient: throat a bit sore and want to get a ...  \n",
       "1  [patient: hey there i have had cold \"symptoms\"...  \n",
       "2  [patient: i have a tight and painful chest wit...  \n",
       "3  [patient: what will happen after the incubatio...  \n",
       "4  [patient: just found out i was pregnant. yeste...  "
      ]
     },
     "execution_count": 60,
     "metadata": {},
     "output_type": "execute_result"
    }
   ],
   "source": [
    "raw_meddialog_df.head()"
   ]
  },
  {
   "cell_type": "code",
   "execution_count": 79,
   "id": "fa2a502a-6285-4677-8e16-c930ec94fec5",
   "metadata": {
    "editable": true,
    "slideshow": {
     "slide_type": ""
    },
    "tags": []
   },
   "outputs": [],
   "source": [
    "# We only need q and a pairs\n",
    "raw_meddialog_df = raw_meddialog_df[raw_meddialog_df[\"utterances\"].apply(len) == 2]"
   ]
  },
  {
   "cell_type": "code",
   "execution_count": 80,
   "id": "7cd27ce5-3520-4d3b-8683-f7aede6732fd",
   "metadata": {},
   "outputs": [
    {
     "data": {
      "text/plain": [
       "array(['patient: throat a bit sore and want to get a good imune booster, especially in light of the virus. please advise. have not been in contact with nyone with the virus.',\n",
       "       \"doctor: during this pandemic. throat pain can be from a strep throat infection (antibiotics needed), a cold or influenza or other virus, or from some other cause such as allergies or irritants. usually, a person sees the doctor (call first) if the sore throat is bothersome, recurrent, or doesn't go away quickly. covid-19 infections tend to have cough, whereas strep throat usually lacks cough but has more throat pain. (3/21/20)\"],\n",
       "      dtype=object)"
      ]
     },
     "execution_count": 80,
     "metadata": {},
     "output_type": "execute_result"
    }
   ],
   "source": [
    "raw_meddialog_df.iloc[0, 1]"
   ]
  },
  {
   "cell_type": "code",
   "execution_count": 83,
   "id": "7457e84c-f471-44f1-b77c-3a3b6fb8b50e",
   "metadata": {},
   "outputs": [
    {
     "name": "stderr",
     "output_type": "stream",
     "text": [
      "/tmp/ipykernel_15823/1016316421.py:6: SettingWithCopyWarning: \n",
      "A value is trying to be set on a copy of a slice from a DataFrame.\n",
      "Try using .loc[row_indexer,col_indexer] = value instead\n",
      "\n",
      "See the caveats in the documentation: https://pandas.pydata.org/pandas-docs/stable/user_guide/indexing.html#returning-a-view-versus-a-copy\n",
      "  raw_meddialog_df[[\"question\", \"answer\"]] = raw_meddialog_df[\"utterances\"].apply(get_q_and_a)\n",
      "/tmp/ipykernel_15823/1016316421.py:6: SettingWithCopyWarning: \n",
      "A value is trying to be set on a copy of a slice from a DataFrame.\n",
      "Try using .loc[row_indexer,col_indexer] = value instead\n",
      "\n",
      "See the caveats in the documentation: https://pandas.pydata.org/pandas-docs/stable/user_guide/indexing.html#returning-a-view-versus-a-copy\n",
      "  raw_meddialog_df[[\"question\", \"answer\"]] = raw_meddialog_df[\"utterances\"].apply(get_q_and_a)\n"
     ]
    }
   ],
   "source": [
    "def get_q_and_a(utterences):\n",
    "    question = utterences[0].replace(\"patient:\", \"\").strip()\n",
    "    answer = utterences[1].replace(\"doctor:\", \"\").strip()\n",
    "    return pd.Series([question, answer])\n",
    "\n",
    "raw_meddialog_df[[\"question\", \"answer\"]] = raw_meddialog_df[\"utterances\"].apply(get_q_and_a)"
   ]
  },
  {
   "cell_type": "code",
   "execution_count": 84,
   "id": "78193113-3be7-4027-8fe4-15f797b939da",
   "metadata": {},
   "outputs": [
    {
     "data": {
      "text/html": [
       "<div>\n",
       "<style scoped>\n",
       "    .dataframe tbody tr th:only-of-type {\n",
       "        vertical-align: middle;\n",
       "    }\n",
       "\n",
       "    .dataframe tbody tr th {\n",
       "        vertical-align: top;\n",
       "    }\n",
       "\n",
       "    .dataframe thead th {\n",
       "        text-align: right;\n",
       "    }\n",
       "</style>\n",
       "<table border=\"1\" class=\"dataframe\">\n",
       "  <thead>\n",
       "    <tr style=\"text-align: right;\">\n",
       "      <th></th>\n",
       "      <th>description</th>\n",
       "      <th>utterances</th>\n",
       "      <th>question</th>\n",
       "      <th>answer</th>\n",
       "    </tr>\n",
       "  </thead>\n",
       "  <tbody>\n",
       "    <tr>\n",
       "      <th>0</th>\n",
       "      <td>throat a bit sore and want to get a good imune...</td>\n",
       "      <td>[patient: throat a bit sore and want to get a ...</td>\n",
       "      <td>throat a bit sore and want to get a good imune...</td>\n",
       "      <td>during this pandemic. throat pain can be from ...</td>\n",
       "    </tr>\n",
       "    <tr>\n",
       "      <th>1</th>\n",
       "      <td>hey there i have had cold \"symptoms\" for over ...</td>\n",
       "      <td>[patient: hey there i have had cold \"symptoms\"...</td>\n",
       "      <td>hey there i have had cold \"symptoms\" for over ...</td>\n",
       "      <td>yes. protection. it is not enough symptoms to ...</td>\n",
       "    </tr>\n",
       "    <tr>\n",
       "      <th>2</th>\n",
       "      <td>i have a tight and painful chest with a dry co...</td>\n",
       "      <td>[patient: i have a tight and painful chest wit...</td>\n",
       "      <td>i have a tight and painful chest with a dry co...</td>\n",
       "      <td>possible. top symptoms include fever, dry coug...</td>\n",
       "    </tr>\n",
       "    <tr>\n",
       "      <th>3</th>\n",
       "      <td>what will happen after the incubation period f...</td>\n",
       "      <td>[patient: what will happen after the incubatio...</td>\n",
       "      <td>what will happen after the incubation period f...</td>\n",
       "      <td>in brief: symptoms if you are infected, sympto...</td>\n",
       "    </tr>\n",
       "    <tr>\n",
       "      <th>4</th>\n",
       "      <td>suggest treatment for pneumonia</td>\n",
       "      <td>[patient: just found out i was pregnant. yeste...</td>\n",
       "      <td>just found out i was pregnant. yesterday diagn...</td>\n",
       "      <td>thanks for your question on healthcare magic.i...</td>\n",
       "    </tr>\n",
       "  </tbody>\n",
       "</table>\n",
       "</div>"
      ],
      "text/plain": [
       "                                         description  \\\n",
       "0  throat a bit sore and want to get a good imune...   \n",
       "1  hey there i have had cold \"symptoms\" for over ...   \n",
       "2  i have a tight and painful chest with a dry co...   \n",
       "3  what will happen after the incubation period f...   \n",
       "4                    suggest treatment for pneumonia   \n",
       "\n",
       "                                          utterances  \\\n",
       "0  [patient: throat a bit sore and want to get a ...   \n",
       "1  [patient: hey there i have had cold \"symptoms\"...   \n",
       "2  [patient: i have a tight and painful chest wit...   \n",
       "3  [patient: what will happen after the incubatio...   \n",
       "4  [patient: just found out i was pregnant. yeste...   \n",
       "\n",
       "                                            question  \\\n",
       "0  throat a bit sore and want to get a good imune...   \n",
       "1  hey there i have had cold \"symptoms\" for over ...   \n",
       "2  i have a tight and painful chest with a dry co...   \n",
       "3  what will happen after the incubation period f...   \n",
       "4  just found out i was pregnant. yesterday diagn...   \n",
       "\n",
       "                                              answer  \n",
       "0  during this pandemic. throat pain can be from ...  \n",
       "1  yes. protection. it is not enough symptoms to ...  \n",
       "2  possible. top symptoms include fever, dry coug...  \n",
       "3  in brief: symptoms if you are infected, sympto...  \n",
       "4  thanks for your question on healthcare magic.i...  "
      ]
     },
     "execution_count": 84,
     "metadata": {},
     "output_type": "execute_result"
    }
   ],
   "source": [
    "raw_meddialog_df.head()"
   ]
  },
  {
   "cell_type": "markdown",
   "id": "073bd44d-5d64-45f2-8e8d-83fa84442aca",
   "metadata": {},
   "source": [
    "# Combine"
   ]
  },
  {
   "cell_type": "code",
   "execution_count": 90,
   "id": "dec552ce-a866-492b-8244-989dca09428a",
   "metadata": {},
   "outputs": [],
   "source": [
    "qna_df = pd.concat([raw_corpus_df[[\"question\", \"answer\"]], raw_healthcare_df[[\"question\", \"answer\"]], raw_meddialog_df[[\"question\", \"answer\"]]], ignore_index=True)"
   ]
  },
  {
   "cell_type": "code",
   "execution_count": 88,
   "id": "bdf2f730-b783-44c0-8e20-a63a08f77357",
   "metadata": {
    "scrolled": true
   },
   "outputs": [
    {
     "data": {
      "text/plain": [
       "\u001b[0;31mSignature:\u001b[0m\n",
       "\u001b[0mqna_df\u001b[0m\u001b[0;34m.\u001b[0m\u001b[0msample\u001b[0m\u001b[0;34m(\u001b[0m\u001b[0;34m\u001b[0m\n",
       "\u001b[0;34m\u001b[0m    \u001b[0mn\u001b[0m\u001b[0;34m:\u001b[0m \u001b[0;34m'int | None'\u001b[0m \u001b[0;34m=\u001b[0m \u001b[0;32mNone\u001b[0m\u001b[0;34m,\u001b[0m\u001b[0;34m\u001b[0m\n",
       "\u001b[0;34m\u001b[0m    \u001b[0mfrac\u001b[0m\u001b[0;34m:\u001b[0m \u001b[0;34m'float | None'\u001b[0m \u001b[0;34m=\u001b[0m \u001b[0;32mNone\u001b[0m\u001b[0;34m,\u001b[0m\u001b[0;34m\u001b[0m\n",
       "\u001b[0;34m\u001b[0m    \u001b[0mreplace\u001b[0m\u001b[0;34m:\u001b[0m \u001b[0;34m'bool_t'\u001b[0m \u001b[0;34m=\u001b[0m \u001b[0;32mFalse\u001b[0m\u001b[0;34m,\u001b[0m\u001b[0;34m\u001b[0m\n",
       "\u001b[0;34m\u001b[0m    \u001b[0mweights\u001b[0m\u001b[0;34m=\u001b[0m\u001b[0;32mNone\u001b[0m\u001b[0;34m,\u001b[0m\u001b[0;34m\u001b[0m\n",
       "\u001b[0;34m\u001b[0m    \u001b[0mrandom_state\u001b[0m\u001b[0;34m:\u001b[0m \u001b[0;34m'RandomState | None'\u001b[0m \u001b[0;34m=\u001b[0m \u001b[0;32mNone\u001b[0m\u001b[0;34m,\u001b[0m\u001b[0;34m\u001b[0m\n",
       "\u001b[0;34m\u001b[0m    \u001b[0maxis\u001b[0m\u001b[0;34m:\u001b[0m \u001b[0;34m'Axis | None'\u001b[0m \u001b[0;34m=\u001b[0m \u001b[0;32mNone\u001b[0m\u001b[0;34m,\u001b[0m\u001b[0;34m\u001b[0m\n",
       "\u001b[0;34m\u001b[0m    \u001b[0mignore_index\u001b[0m\u001b[0;34m:\u001b[0m \u001b[0;34m'bool_t'\u001b[0m \u001b[0;34m=\u001b[0m \u001b[0;32mFalse\u001b[0m\u001b[0;34m,\u001b[0m\u001b[0;34m\u001b[0m\n",
       "\u001b[0;34m\u001b[0m\u001b[0;34m)\u001b[0m \u001b[0;34m->\u001b[0m \u001b[0;34m'Self'\u001b[0m\u001b[0;34m\u001b[0m\u001b[0;34m\u001b[0m\u001b[0m\n",
       "\u001b[0;31mDocstring:\u001b[0m\n",
       "Return a random sample of items from an axis of object.\n",
       "\n",
       "You can use `random_state` for reproducibility.\n",
       "\n",
       "Parameters\n",
       "----------\n",
       "n : int, optional\n",
       "    Number of items from axis to return. Cannot be used with `frac`.\n",
       "    Default = 1 if `frac` = None.\n",
       "frac : float, optional\n",
       "    Fraction of axis items to return. Cannot be used with `n`.\n",
       "replace : bool, default False\n",
       "    Allow or disallow sampling of the same row more than once.\n",
       "weights : str or ndarray-like, optional\n",
       "    Default 'None' results in equal probability weighting.\n",
       "    If passed a Series, will align with target object on index. Index\n",
       "    values in weights not found in sampled object will be ignored and\n",
       "    index values in sampled object not in weights will be assigned\n",
       "    weights of zero.\n",
       "    If called on a DataFrame, will accept the name of a column\n",
       "    when axis = 0.\n",
       "    Unless weights are a Series, weights must be same length as axis\n",
       "    being sampled.\n",
       "    If weights do not sum to 1, they will be normalized to sum to 1.\n",
       "    Missing values in the weights column will be treated as zero.\n",
       "    Infinite values not allowed.\n",
       "random_state : int, array-like, BitGenerator, np.random.RandomState, np.random.Generator, optional\n",
       "    If int, array-like, or BitGenerator, seed for random number generator.\n",
       "    If np.random.RandomState or np.random.Generator, use as given.\n",
       "\n",
       "    .. versionchanged:: 1.4.0\n",
       "\n",
       "        np.random.Generator objects now accepted\n",
       "\n",
       "axis : {0 or 'index', 1 or 'columns', None}, default None\n",
       "    Axis to sample. Accepts axis number or name. Default is stat axis\n",
       "    for given data type. For `Series` this parameter is unused and defaults to `None`.\n",
       "ignore_index : bool, default False\n",
       "    If True, the resulting index will be labeled 0, 1, …, n - 1.\n",
       "\n",
       "    .. versionadded:: 1.3.0\n",
       "\n",
       "Returns\n",
       "-------\n",
       "Series or DataFrame\n",
       "    A new object of same type as caller containing `n` items randomly\n",
       "    sampled from the caller object.\n",
       "\n",
       "See Also\n",
       "--------\n",
       "DataFrameGroupBy.sample: Generates random samples from each group of a\n",
       "    DataFrame object.\n",
       "SeriesGroupBy.sample: Generates random samples from each group of a\n",
       "    Series object.\n",
       "numpy.random.choice: Generates a random sample from a given 1-D numpy\n",
       "    array.\n",
       "\n",
       "Notes\n",
       "-----\n",
       "If `frac` > 1, `replacement` should be set to `True`.\n",
       "\n",
       "Examples\n",
       "--------\n",
       ">>> df = pd.DataFrame({'num_legs': [2, 4, 8, 0],\n",
       "...                    'num_wings': [2, 0, 0, 0],\n",
       "...                    'num_specimen_seen': [10, 2, 1, 8]},\n",
       "...                   index=['falcon', 'dog', 'spider', 'fish'])\n",
       ">>> df\n",
       "        num_legs  num_wings  num_specimen_seen\n",
       "falcon         2          2                 10\n",
       "dog            4          0                  2\n",
       "spider         8          0                  1\n",
       "fish           0          0                  8\n",
       "\n",
       "Extract 3 random elements from the ``Series`` ``df['num_legs']``:\n",
       "Note that we use `random_state` to ensure the reproducibility of\n",
       "the examples.\n",
       "\n",
       ">>> df['num_legs'].sample(n=3, random_state=1)\n",
       "fish      0\n",
       "spider    8\n",
       "falcon    2\n",
       "Name: num_legs, dtype: int64\n",
       "\n",
       "A random 50% sample of the ``DataFrame`` with replacement:\n",
       "\n",
       ">>> df.sample(frac=0.5, replace=True, random_state=1)\n",
       "      num_legs  num_wings  num_specimen_seen\n",
       "dog          4          0                  2\n",
       "fish         0          0                  8\n",
       "\n",
       "An upsample sample of the ``DataFrame`` with replacement:\n",
       "Note that `replace` parameter has to be `True` for `frac` parameter > 1.\n",
       "\n",
       ">>> df.sample(frac=2, replace=True, random_state=1)\n",
       "        num_legs  num_wings  num_specimen_seen\n",
       "dog            4          0                  2\n",
       "fish           0          0                  8\n",
       "falcon         2          2                 10\n",
       "falcon         2          2                 10\n",
       "fish           0          0                  8\n",
       "dog            4          0                  2\n",
       "fish           0          0                  8\n",
       "dog            4          0                  2\n",
       "\n",
       "Using a DataFrame column as weights. Rows with larger value in the\n",
       "`num_specimen_seen` column are more likely to be sampled.\n",
       "\n",
       ">>> df.sample(n=2, weights='num_specimen_seen', random_state=1)\n",
       "        num_legs  num_wings  num_specimen_seen\n",
       "falcon         2          2                 10\n",
       "fish           0          0                  8\n",
       "\u001b[0;31mFile:\u001b[0m      ~/hasindu/myenv/lib/python3.10/site-packages/pandas/core/generic.py\n",
       "\u001b[0;31mType:\u001b[0m      method"
      ]
     },
     "metadata": {},
     "output_type": "display_data"
    }
   ],
   "source": [
    "qna_df.sample?"
   ]
  },
  {
   "cell_type": "code",
   "execution_count": 91,
   "id": "102bef78-eeea-4ef5-a954-ee418664cb68",
   "metadata": {
    "editable": true,
    "scrolled": true,
    "slideshow": {
     "slide_type": ""
    },
    "tags": []
   },
   "outputs": [],
   "source": [
    "qna_df_shuffled = qna_df.sample(frac=1, random_state=32).reset_index(drop=True)"
   ]
  },
  {
   "cell_type": "code",
   "execution_count": 97,
   "id": "39e1333e-088a-4d87-b2bb-1d6db021b573",
   "metadata": {},
   "outputs": [
    {
     "data": {
      "text/plain": [
       "(129177, 2)"
      ]
     },
     "execution_count": 97,
     "metadata": {},
     "output_type": "execute_result"
    }
   ],
   "source": [
    "qna_df_shuffled.shape"
   ]
  },
  {
   "cell_type": "code",
   "execution_count": 92,
   "id": "bdb1a52f-d265-4466-bba8-23faefc146e2",
   "metadata": {
    "editable": true,
    "slideshow": {
     "slide_type": ""
    },
    "tags": []
   },
   "outputs": [
    {
     "data": {
      "text/html": [
       "<div>\n",
       "<style scoped>\n",
       "    .dataframe tbody tr th:only-of-type {\n",
       "        vertical-align: middle;\n",
       "    }\n",
       "\n",
       "    .dataframe tbody tr th {\n",
       "        vertical-align: top;\n",
       "    }\n",
       "\n",
       "    .dataframe thead th {\n",
       "        text-align: right;\n",
       "    }\n",
       "</style>\n",
       "<table border=\"1\" class=\"dataframe\">\n",
       "  <thead>\n",
       "    <tr style=\"text-align: right;\">\n",
       "      <th></th>\n",
       "      <th>question</th>\n",
       "      <th>answer</th>\n",
       "    </tr>\n",
       "  </thead>\n",
       "  <tbody>\n",
       "    <tr>\n",
       "      <th>0</th>\n",
       "      <td>I have had a cyst now for 6 months.6weeks ago ...</td>\n",
       "      <td>Welcome to Chat Doctor It needs to be examined...</td>\n",
       "    </tr>\n",
       "    <tr>\n",
       "      <th>1</th>\n",
       "      <td>What are the symptoms of Pili torti ?</td>\n",
       "      <td>What are the signs and symptoms of Pili torti?...</td>\n",
       "    </tr>\n",
       "    <tr>\n",
       "      <th>2</th>\n",
       "      <td>I have a mass just under my ribs on the right ...</td>\n",
       "      <td>Hi, Good Morning. I am Chat Doctor. S.CUTS -su...</td>\n",
       "    </tr>\n",
       "    <tr>\n",
       "      <th>3</th>\n",
       "      <td>My sister is on Xanax, feyntnol patch and a pa...</td>\n",
       "      <td>Welcome to Chat Doctor, Though you have not gi...</td>\n",
       "    </tr>\n",
       "    <tr>\n",
       "      <th>4</th>\n",
       "      <td>Hello. So today I woke up and was perfectly fi...</td>\n",
       "      <td>Thanks for your question on Chat Doctor. I can...</td>\n",
       "    </tr>\n",
       "    <tr>\n",
       "      <th>5</th>\n",
       "      <td>I was playing basketball the other night and w...</td>\n",
       "      <td>Hi Thanks for posting your query on Chat Docto...</td>\n",
       "    </tr>\n",
       "    <tr>\n",
       "      <th>6</th>\n",
       "      <td>Hello, my Mother passed away suddenly on Chris...</td>\n",
       "      <td>Hi. I understand your concern. Stress can affe...</td>\n",
       "    </tr>\n",
       "    <tr>\n",
       "      <th>7</th>\n",
       "      <td>For the past few days I have been having a tig...</td>\n",
       "      <td>Thanks for your question on Chat Doctor. I can...</td>\n",
       "    </tr>\n",
       "    <tr>\n",
       "      <th>8</th>\n",
       "      <td>i have large cyst on  either side on my lower ...</td>\n",
       "      <td>Hello and welcome to Chat Doctor . I thank you...</td>\n",
       "    </tr>\n",
       "    <tr>\n",
       "      <th>9</th>\n",
       "      <td>my semen analysis was conducted and the result...</td>\n",
       "      <td>Hello, Welcome to Chat Doctor, I am Chat Docto...</td>\n",
       "    </tr>\n",
       "  </tbody>\n",
       "</table>\n",
       "</div>"
      ],
      "text/plain": [
       "                                            question  \\\n",
       "0  I have had a cyst now for 6 months.6weeks ago ...   \n",
       "1              What are the symptoms of Pili torti ?   \n",
       "2  I have a mass just under my ribs on the right ...   \n",
       "3  My sister is on Xanax, feyntnol patch and a pa...   \n",
       "4  Hello. So today I woke up and was perfectly fi...   \n",
       "5  I was playing basketball the other night and w...   \n",
       "6  Hello, my Mother passed away suddenly on Chris...   \n",
       "7  For the past few days I have been having a tig...   \n",
       "8  i have large cyst on  either side on my lower ...   \n",
       "9  my semen analysis was conducted and the result...   \n",
       "\n",
       "                                              answer  \n",
       "0  Welcome to Chat Doctor It needs to be examined...  \n",
       "1  What are the signs and symptoms of Pili torti?...  \n",
       "2  Hi, Good Morning. I am Chat Doctor. S.CUTS -su...  \n",
       "3  Welcome to Chat Doctor, Though you have not gi...  \n",
       "4  Thanks for your question on Chat Doctor. I can...  \n",
       "5  Hi Thanks for posting your query on Chat Docto...  \n",
       "6  Hi. I understand your concern. Stress can affe...  \n",
       "7  Thanks for your question on Chat Doctor. I can...  \n",
       "8  Hello and welcome to Chat Doctor . I thank you...  \n",
       "9  Hello, Welcome to Chat Doctor, I am Chat Docto...  "
      ]
     },
     "execution_count": 92,
     "metadata": {},
     "output_type": "execute_result"
    }
   ],
   "source": [
    "qna_df_shuffled.head(10)"
   ]
  },
  {
   "cell_type": "code",
   "execution_count": 96,
   "id": "62625ca6-3cb3-43db-802a-fc4b061c5b30",
   "metadata": {},
   "outputs": [],
   "source": [
    "qna_df_shuffled.to_csv(qna_data_path + \"qna.csv\")"
   ]
  },
  {
   "cell_type": "code",
   "execution_count": 100,
   "id": "9076e950-10b7-4a21-a05d-896d89be54da",
   "metadata": {},
   "outputs": [],
   "source": [
    "train_df = qna_df_shuffled.loc[:train_size -1, :]\n",
    "test_df = qna_df_shuffled.loc[train_size:train_size + test_size - 1, :]\n",
    "val_df = qna_df_shuffled.loc[train_size + test_size: train_size + test_size + val_size - 1, :]"
   ]
  },
  {
   "cell_type": "code",
   "execution_count": 101,
   "id": "4b4d754d-8825-4729-b721-4d76bee02198",
   "metadata": {
    "editable": true,
    "slideshow": {
     "slide_type": ""
    },
    "tags": []
   },
   "outputs": [
    {
     "data": {
      "text/plain": [
       "((120000, 2), (2000, 2), (300, 2))"
      ]
     },
     "execution_count": 101,
     "metadata": {},
     "output_type": "execute_result"
    }
   ],
   "source": [
    "train_df.shape, test_df.shape, val_df.shape"
   ]
  },
  {
   "cell_type": "code",
   "execution_count": 102,
   "id": "e40a6091-99ff-41f6-a7c6-32a13f36ca3b",
   "metadata": {
    "editable": true,
    "slideshow": {
     "slide_type": ""
    },
    "tags": []
   },
   "outputs": [],
   "source": [
    "train_df.to_csv(qna_data_path + \"train.csv\", index=False)\n",
    "test_df.to_csv(qna_data_path + \"test.csv\", index=False)\n",
    "val_df.to_csv(qna_data_path + \"val.csv\", index=False)"
   ]
  },
  {
   "cell_type": "code",
   "execution_count": 2,
   "id": "f5fc4ff0-51f4-499b-b355-cf0334be5721",
   "metadata": {},
   "outputs": [],
   "source": [
    "from transformers import AutoTokenizer\n",
    "model_id = \"microsoft/Phi-3.5-mini-instruct\"\n",
    "tokenizer = AutoTokenizer.from_pretrained(model_id, trust_remote_code=True)"
   ]
  },
  {
   "cell_type": "code",
   "execution_count": 3,
   "id": "cce47388-76f7-4ebd-8a45-8721cf908d8c",
   "metadata": {},
   "outputs": [
    {
     "name": "stdout",
     "output_type": "stream",
     "text": [
      "# Instruction:\n",
      "Assume you are an excellent doctor. Using your knowledge, answer the quesion given below.\n",
      "\n",
      "# Question: {question}\n",
      "\n",
      "# Answer:\n"
     ]
    }
   ],
   "source": [
    "prompt_template = \"\"\"\n",
    "# Instruction:\n",
    "Assume you are an excellent doctor. Using your knowledge, answer the quesion given below.\n",
    "\n",
    "# Question: {question}\n",
    "\n",
    "# Answer: \"\"\"\n",
    "prompt_template = prompt_template.strip()\n",
    "print(prompt_template)"
   ]
  },
  {
   "cell_type": "code",
   "execution_count": 13,
   "id": "345cdfbf-b6ca-4e98-a9fb-f3008704a37e",
   "metadata": {},
   "outputs": [],
   "source": [
    "def calculate_token_counts(example):\n",
    "    prompt = prompt_template.format(question=example['question'])\n",
    "    answer = example[\"answer\"] + tokenizer.eos_token\n",
    "    \n",
    "    # Tokenize prompt to get its length\n",
    "    prompt_tokens = tokenizer(\n",
    "        prompt,\n",
    "        truncation=False\n",
    "    )\n",
    "    \n",
    "    prompt_len = len(prompt_tokens[\"input_ids\"])\n",
    "    \n",
    "    # Tokenize full sequence once\n",
    "    tokenized = tokenizer(\n",
    "        prompt,\n",
    "        answer,\n",
    "        truncation=False\n",
    "    )\n",
    "\n",
    "    full_len = len(tokenized[\"input_ids\"])\n",
    "    return pd.Series([prompt_len, full_len])"
   ]
  },
  {
   "cell_type": "code",
   "execution_count": 8,
   "id": "0380dceb-92d9-45bf-b2c2-1c3463e78366",
   "metadata": {},
   "outputs": [],
   "source": [
    "qna_df = pd.read_csv(qna_data_path + \"qna.csv\")"
   ]
  },
  {
   "cell_type": "code",
   "execution_count": 17,
   "id": "9c02c889-86e3-474b-9b6e-d5c0974b0245",
   "metadata": {},
   "outputs": [],
   "source": [
    "qna_df = qna_df[qna_df[\"answer\"].apply(type) == str]"
   ]
  },
  {
   "cell_type": "code",
   "execution_count": 24,
   "id": "84d1a9e2-0dab-4a72-a745-07f58ebaf48b",
   "metadata": {},
   "outputs": [],
   "source": [
    "qna_df = qna_df[[\"question\", \"answer\"]].reset_index(drop=True)"
   ]
  },
  {
   "cell_type": "code",
   "execution_count": 25,
   "id": "eb56ab81-b157-40b2-a31c-0d07ae260d64",
   "metadata": {},
   "outputs": [
    {
     "data": {
      "text/html": [
       "<div>\n",
       "<style scoped>\n",
       "    .dataframe tbody tr th:only-of-type {\n",
       "        vertical-align: middle;\n",
       "    }\n",
       "\n",
       "    .dataframe tbody tr th {\n",
       "        vertical-align: top;\n",
       "    }\n",
       "\n",
       "    .dataframe thead th {\n",
       "        text-align: right;\n",
       "    }\n",
       "</style>\n",
       "<table border=\"1\" class=\"dataframe\">\n",
       "  <thead>\n",
       "    <tr style=\"text-align: right;\">\n",
       "      <th></th>\n",
       "      <th>0</th>\n",
       "      <th>1</th>\n",
       "    </tr>\n",
       "  </thead>\n",
       "  <tbody>\n",
       "    <tr>\n",
       "      <th>0</th>\n",
       "      <td>227</td>\n",
       "      <td>364</td>\n",
       "    </tr>\n",
       "    <tr>\n",
       "      <th>1</th>\n",
       "      <td>46</td>\n",
       "      <td>464</td>\n",
       "    </tr>\n",
       "    <tr>\n",
       "      <th>2</th>\n",
       "      <td>110</td>\n",
       "      <td>323</td>\n",
       "    </tr>\n",
       "    <tr>\n",
       "      <th>3</th>\n",
       "      <td>145</td>\n",
       "      <td>277</td>\n",
       "    </tr>\n",
       "    <tr>\n",
       "      <th>4</th>\n",
       "      <td>105</td>\n",
       "      <td>283</td>\n",
       "    </tr>\n",
       "    <tr>\n",
       "      <th>5</th>\n",
       "      <td>113</td>\n",
       "      <td>254</td>\n",
       "    </tr>\n",
       "    <tr>\n",
       "      <th>6</th>\n",
       "      <td>214</td>\n",
       "      <td>360</td>\n",
       "    </tr>\n",
       "    <tr>\n",
       "      <th>7</th>\n",
       "      <td>182</td>\n",
       "      <td>356</td>\n",
       "    </tr>\n",
       "    <tr>\n",
       "      <th>8</th>\n",
       "      <td>119</td>\n",
       "      <td>273</td>\n",
       "    </tr>\n",
       "    <tr>\n",
       "      <th>9</th>\n",
       "      <td>158</td>\n",
       "      <td>339</td>\n",
       "    </tr>\n",
       "  </tbody>\n",
       "</table>\n",
       "</div>"
      ],
      "text/plain": [
       "     0    1\n",
       "0  227  364\n",
       "1   46  464\n",
       "2  110  323\n",
       "3  145  277\n",
       "4  105  283\n",
       "5  113  254\n",
       "6  214  360\n",
       "7  182  356\n",
       "8  119  273\n",
       "9  158  339"
      ]
     },
     "execution_count": 25,
     "metadata": {},
     "output_type": "execute_result"
    }
   ],
   "source": [
    "qna_df.iloc[:10, :].apply(calculate_token_counts, axis=1)"
   ]
  },
  {
   "cell_type": "code",
   "execution_count": 26,
   "id": "6b51d58b-2caf-4235-87be-a1630cd4e89f",
   "metadata": {},
   "outputs": [],
   "source": [
    "qna_df[[\"n_prompt_tokens\", \"n_full_tokens\"]] = qna_df.apply(calculate_token_counts, axis=1)"
   ]
  },
  {
   "cell_type": "code",
   "execution_count": 27,
   "id": "8ef95750-2002-4905-8ebf-f8fbf7d8207a",
   "metadata": {
    "scrolled": true
   },
   "outputs": [
    {
     "data": {
      "text/html": [
       "<div>\n",
       "<style scoped>\n",
       "    .dataframe tbody tr th:only-of-type {\n",
       "        vertical-align: middle;\n",
       "    }\n",
       "\n",
       "    .dataframe tbody tr th {\n",
       "        vertical-align: top;\n",
       "    }\n",
       "\n",
       "    .dataframe thead th {\n",
       "        text-align: right;\n",
       "    }\n",
       "</style>\n",
       "<table border=\"1\" class=\"dataframe\">\n",
       "  <thead>\n",
       "    <tr style=\"text-align: right;\">\n",
       "      <th></th>\n",
       "      <th>question</th>\n",
       "      <th>answer</th>\n",
       "      <th>n_prompt_tokens</th>\n",
       "      <th>n_full_tokens</th>\n",
       "    </tr>\n",
       "  </thead>\n",
       "  <tbody>\n",
       "    <tr>\n",
       "      <th>0</th>\n",
       "      <td>I have had a cyst now for 6 months.6weeks ago ...</td>\n",
       "      <td>Welcome to Chat Doctor It needs to be examined...</td>\n",
       "      <td>227</td>\n",
       "      <td>364</td>\n",
       "    </tr>\n",
       "    <tr>\n",
       "      <th>1</th>\n",
       "      <td>What are the symptoms of Pili torti ?</td>\n",
       "      <td>What are the signs and symptoms of Pili torti?...</td>\n",
       "      <td>46</td>\n",
       "      <td>464</td>\n",
       "    </tr>\n",
       "    <tr>\n",
       "      <th>2</th>\n",
       "      <td>I have a mass just under my ribs on the right ...</td>\n",
       "      <td>Hi, Good Morning. I am Chat Doctor. S.CUTS -su...</td>\n",
       "      <td>110</td>\n",
       "      <td>323</td>\n",
       "    </tr>\n",
       "    <tr>\n",
       "      <th>3</th>\n",
       "      <td>My sister is on Xanax, feyntnol patch and a pa...</td>\n",
       "      <td>Welcome to Chat Doctor, Though you have not gi...</td>\n",
       "      <td>145</td>\n",
       "      <td>277</td>\n",
       "    </tr>\n",
       "    <tr>\n",
       "      <th>4</th>\n",
       "      <td>Hello. So today I woke up and was perfectly fi...</td>\n",
       "      <td>Thanks for your question on Chat Doctor. I can...</td>\n",
       "      <td>105</td>\n",
       "      <td>283</td>\n",
       "    </tr>\n",
       "    <tr>\n",
       "      <th>5</th>\n",
       "      <td>I was playing basketball the other night and w...</td>\n",
       "      <td>Hi Thanks for posting your query on Chat Docto...</td>\n",
       "      <td>113</td>\n",
       "      <td>254</td>\n",
       "    </tr>\n",
       "    <tr>\n",
       "      <th>6</th>\n",
       "      <td>Hello, my Mother passed away suddenly on Chris...</td>\n",
       "      <td>Hi. I understand your concern. Stress can affe...</td>\n",
       "      <td>214</td>\n",
       "      <td>360</td>\n",
       "    </tr>\n",
       "    <tr>\n",
       "      <th>7</th>\n",
       "      <td>For the past few days I have been having a tig...</td>\n",
       "      <td>Thanks for your question on Chat Doctor. I can...</td>\n",
       "      <td>182</td>\n",
       "      <td>356</td>\n",
       "    </tr>\n",
       "    <tr>\n",
       "      <th>8</th>\n",
       "      <td>i have large cyst on  either side on my lower ...</td>\n",
       "      <td>Hello and welcome to Chat Doctor . I thank you...</td>\n",
       "      <td>119</td>\n",
       "      <td>273</td>\n",
       "    </tr>\n",
       "    <tr>\n",
       "      <th>9</th>\n",
       "      <td>my semen analysis was conducted and the result...</td>\n",
       "      <td>Hello, Welcome to Chat Doctor, I am Chat Docto...</td>\n",
       "      <td>158</td>\n",
       "      <td>339</td>\n",
       "    </tr>\n",
       "    <tr>\n",
       "      <th>10</th>\n",
       "      <td>My stomached is having very bad sharp pains my...</td>\n",
       "      <td>Hi, Thank you for posting your query.First, I ...</td>\n",
       "      <td>208</td>\n",
       "      <td>359</td>\n",
       "    </tr>\n",
       "    <tr>\n",
       "      <th>11</th>\n",
       "      <td>I have been working out and running for severa...</td>\n",
       "      <td>Thanks for your question on Chat Doctor. I can...</td>\n",
       "      <td>102</td>\n",
       "      <td>217</td>\n",
       "    </tr>\n",
       "    <tr>\n",
       "      <th>12</th>\n",
       "      <td>woke up 4 days ago with a swollen bump on my l...</td>\n",
       "      <td>Hi! Good evening. I am Chat Doctor answering y...</td>\n",
       "      <td>118</td>\n",
       "      <td>348</td>\n",
       "    </tr>\n",
       "    <tr>\n",
       "      <th>13</th>\n",
       "      <td>Hello, the left side of my lip is in a sort of...</td>\n",
       "      <td>Hiiiits nothing to do with your wisdom tooth e...</td>\n",
       "      <td>175</td>\n",
       "      <td>312</td>\n",
       "    </tr>\n",
       "    <tr>\n",
       "      <th>14</th>\n",
       "      <td>What is (are) hypermanganesemia with dystonia,...</td>\n",
       "      <td>Hypermanganesemia with dystonia, polycythemia,...</td>\n",
       "      <td>61</td>\n",
       "      <td>446</td>\n",
       "    </tr>\n",
       "    <tr>\n",
       "      <th>15</th>\n",
       "      <td>I feel weak when I wake up in the morning and ...</td>\n",
       "      <td>Hi, Sometimes screening blood work for thyroid...</td>\n",
       "      <td>222</td>\n",
       "      <td>380</td>\n",
       "    </tr>\n",
       "    <tr>\n",
       "      <th>16</th>\n",
       "      <td>Hi for over a year now I ve had mark on my leg...</td>\n",
       "      <td>Hi, Dear,Thanks for your query to Chat Doctor....</td>\n",
       "      <td>99</td>\n",
       "      <td>319</td>\n",
       "    </tr>\n",
       "    <tr>\n",
       "      <th>17</th>\n",
       "      <td>Hello Doc,I have been having intermittent thro...</td>\n",
       "      <td>HI. Thanks for your query and an elucidated hi...</td>\n",
       "      <td>320</td>\n",
       "      <td>599</td>\n",
       "    </tr>\n",
       "    <tr>\n",
       "      <th>18</th>\n",
       "      <td>hi...i had a broken tooth in 2010. the dentist...</td>\n",
       "      <td>Hi, Thanks for asking the query, After reading...</td>\n",
       "      <td>135</td>\n",
       "      <td>278</td>\n",
       "    </tr>\n",
       "    <tr>\n",
       "      <th>19</th>\n",
       "      <td>Every disc in my back from T1 to S1 is bulging...</td>\n",
       "      <td>Hi there. Thank s for your question at Chat Do...</td>\n",
       "      <td>123</td>\n",
       "      <td>213</td>\n",
       "    </tr>\n",
       "    <tr>\n",
       "      <th>20</th>\n",
       "      <td>my 13 year old sonMy 13year old has a terrible...</td>\n",
       "      <td>Hi and thank you for choosing Chat Doctor to p...</td>\n",
       "      <td>114</td>\n",
       "      <td>344</td>\n",
       "    </tr>\n",
       "    <tr>\n",
       "      <th>21</th>\n",
       "      <td>I missed my period entirely and the only other...</td>\n",
       "      <td>Hi, Proteins in your diet should not affect th...</td>\n",
       "      <td>193</td>\n",
       "      <td>435</td>\n",
       "    </tr>\n",
       "    <tr>\n",
       "      <th>22</th>\n",
       "      <td>I have been feeling weird, for a little bit no...</td>\n",
       "      <td>Hello Nicoletta, There is no doubt in my mind ...</td>\n",
       "      <td>138</td>\n",
       "      <td>279</td>\n",
       "    </tr>\n",
       "    <tr>\n",
       "      <th>23</th>\n",
       "      <td>Hi - my 5 year old daughter has a 5mm mole (or...</td>\n",
       "      <td>HI, Dear, Thanks for the query from you for yo...</td>\n",
       "      <td>108</td>\n",
       "      <td>361</td>\n",
       "    </tr>\n",
       "    <tr>\n",
       "      <th>24</th>\n",
       "      <td>Hello, I have experience some level of pain at...</td>\n",
       "      <td>Hi, What is the location of pain in ankle ante...</td>\n",
       "      <td>131</td>\n",
       "      <td>304</td>\n",
       "    </tr>\n",
       "    <tr>\n",
       "      <th>25</th>\n",
       "      <td>hi doc, just wanna ask if its OK to use pregna...</td>\n",
       "      <td>HIF you have had sex on the ovulation day, the...</td>\n",
       "      <td>100</td>\n",
       "      <td>285</td>\n",
       "    </tr>\n",
       "    <tr>\n",
       "      <th>26</th>\n",
       "      <td>My 1 year old daughter underwent nasal endosco...</td>\n",
       "      <td>Thanks for asking I have gone through your que...</td>\n",
       "      <td>178</td>\n",
       "      <td>303</td>\n",
       "    </tr>\n",
       "    <tr>\n",
       "      <th>27</th>\n",
       "      <td>What are the symptoms of Lethal chondrodysplas...</td>\n",
       "      <td>What are the signs and symptoms of Lethal chon...</td>\n",
       "      <td>54</td>\n",
       "      <td>606</td>\n",
       "    </tr>\n",
       "    <tr>\n",
       "      <th>28</th>\n",
       "      <td>What is (are) dermatofibrosarcoma protuberans ?</td>\n",
       "      <td>Dermatofibrosarcoma protuberans is a rare type...</td>\n",
       "      <td>52</td>\n",
       "      <td>592</td>\n",
       "    </tr>\n",
       "    <tr>\n",
       "      <th>29</th>\n",
       "      <td>I went to the doctor about my left side of che...</td>\n",
       "      <td>Thanks for your question on Chat Doctor. I can...</td>\n",
       "      <td>129</td>\n",
       "      <td>250</td>\n",
       "    </tr>\n",
       "  </tbody>\n",
       "</table>\n",
       "</div>"
      ],
      "text/plain": [
       "                                             question  \\\n",
       "0   I have had a cyst now for 6 months.6weeks ago ...   \n",
       "1               What are the symptoms of Pili torti ?   \n",
       "2   I have a mass just under my ribs on the right ...   \n",
       "3   My sister is on Xanax, feyntnol patch and a pa...   \n",
       "4   Hello. So today I woke up and was perfectly fi...   \n",
       "5   I was playing basketball the other night and w...   \n",
       "6   Hello, my Mother passed away suddenly on Chris...   \n",
       "7   For the past few days I have been having a tig...   \n",
       "8   i have large cyst on  either side on my lower ...   \n",
       "9   my semen analysis was conducted and the result...   \n",
       "10  My stomached is having very bad sharp pains my...   \n",
       "11  I have been working out and running for severa...   \n",
       "12  woke up 4 days ago with a swollen bump on my l...   \n",
       "13  Hello, the left side of my lip is in a sort of...   \n",
       "14  What is (are) hypermanganesemia with dystonia,...   \n",
       "15  I feel weak when I wake up in the morning and ...   \n",
       "16  Hi for over a year now I ve had mark on my leg...   \n",
       "17  Hello Doc,I have been having intermittent thro...   \n",
       "18  hi...i had a broken tooth in 2010. the dentist...   \n",
       "19  Every disc in my back from T1 to S1 is bulging...   \n",
       "20  my 13 year old sonMy 13year old has a terrible...   \n",
       "21  I missed my period entirely and the only other...   \n",
       "22  I have been feeling weird, for a little bit no...   \n",
       "23  Hi - my 5 year old daughter has a 5mm mole (or...   \n",
       "24  Hello, I have experience some level of pain at...   \n",
       "25  hi doc, just wanna ask if its OK to use pregna...   \n",
       "26  My 1 year old daughter underwent nasal endosco...   \n",
       "27  What are the symptoms of Lethal chondrodysplas...   \n",
       "28    What is (are) dermatofibrosarcoma protuberans ?   \n",
       "29  I went to the doctor about my left side of che...   \n",
       "\n",
       "                                               answer  n_prompt_tokens  \\\n",
       "0   Welcome to Chat Doctor It needs to be examined...              227   \n",
       "1   What are the signs and symptoms of Pili torti?...               46   \n",
       "2   Hi, Good Morning. I am Chat Doctor. S.CUTS -su...              110   \n",
       "3   Welcome to Chat Doctor, Though you have not gi...              145   \n",
       "4   Thanks for your question on Chat Doctor. I can...              105   \n",
       "5   Hi Thanks for posting your query on Chat Docto...              113   \n",
       "6   Hi. I understand your concern. Stress can affe...              214   \n",
       "7   Thanks for your question on Chat Doctor. I can...              182   \n",
       "8   Hello and welcome to Chat Doctor . I thank you...              119   \n",
       "9   Hello, Welcome to Chat Doctor, I am Chat Docto...              158   \n",
       "10  Hi, Thank you for posting your query.First, I ...              208   \n",
       "11  Thanks for your question on Chat Doctor. I can...              102   \n",
       "12  Hi! Good evening. I am Chat Doctor answering y...              118   \n",
       "13  Hiiiits nothing to do with your wisdom tooth e...              175   \n",
       "14  Hypermanganesemia with dystonia, polycythemia,...               61   \n",
       "15  Hi, Sometimes screening blood work for thyroid...              222   \n",
       "16  Hi, Dear,Thanks for your query to Chat Doctor....               99   \n",
       "17  HI. Thanks for your query and an elucidated hi...              320   \n",
       "18  Hi, Thanks for asking the query, After reading...              135   \n",
       "19  Hi there. Thank s for your question at Chat Do...              123   \n",
       "20  Hi and thank you for choosing Chat Doctor to p...              114   \n",
       "21  Hi, Proteins in your diet should not affect th...              193   \n",
       "22  Hello Nicoletta, There is no doubt in my mind ...              138   \n",
       "23  HI, Dear, Thanks for the query from you for yo...              108   \n",
       "24  Hi, What is the location of pain in ankle ante...              131   \n",
       "25  HIF you have had sex on the ovulation day, the...              100   \n",
       "26  Thanks for asking I have gone through your que...              178   \n",
       "27  What are the signs and symptoms of Lethal chon...               54   \n",
       "28  Dermatofibrosarcoma protuberans is a rare type...               52   \n",
       "29  Thanks for your question on Chat Doctor. I can...              129   \n",
       "\n",
       "    n_full_tokens  \n",
       "0             364  \n",
       "1             464  \n",
       "2             323  \n",
       "3             277  \n",
       "4             283  \n",
       "5             254  \n",
       "6             360  \n",
       "7             356  \n",
       "8             273  \n",
       "9             339  \n",
       "10            359  \n",
       "11            217  \n",
       "12            348  \n",
       "13            312  \n",
       "14            446  \n",
       "15            380  \n",
       "16            319  \n",
       "17            599  \n",
       "18            278  \n",
       "19            213  \n",
       "20            344  \n",
       "21            435  \n",
       "22            279  \n",
       "23            361  \n",
       "24            304  \n",
       "25            285  \n",
       "26            303  \n",
       "27            606  \n",
       "28            592  \n",
       "29            250  "
      ]
     },
     "execution_count": 27,
     "metadata": {},
     "output_type": "execute_result"
    }
   ],
   "source": [
    "qna_df.head(30)"
   ]
  },
  {
   "cell_type": "code",
   "execution_count": 38,
   "id": "4ccf556b-bf37-4c3b-9f3f-90591919d46d",
   "metadata": {},
   "outputs": [
    {
     "data": {
      "text/plain": [
       "(129172, 4)"
      ]
     },
     "execution_count": 38,
     "metadata": {},
     "output_type": "execute_result"
    }
   ],
   "source": [
    "qna_df.shape"
   ]
  },
  {
   "cell_type": "code",
   "execution_count": 41,
   "id": "2b367024-c0e7-4444-83a8-3c762d063001",
   "metadata": {},
   "outputs": [],
   "source": [
    "qna_df = qna_df[qna_df[\"n_full_tokens\"] < 512]"
   ]
  },
  {
   "cell_type": "code",
   "execution_count": 47,
   "id": "57acf68d-29da-4a58-8b0a-7d0f232cdf34",
   "metadata": {},
   "outputs": [],
   "source": [
    "qna_df = qna_df.reset_index(drop=True)"
   ]
  },
  {
   "cell_type": "code",
   "execution_count": 50,
   "id": "b8f64833-c9c0-4ce4-b8d9-1f34a71cbb12",
   "metadata": {},
   "outputs": [],
   "source": [
    "train_df = qna_df.loc[:train_size -1, [\"question\", \"answer\"]]\n",
    "test_df = qna_df.loc[train_size:train_size + test_size - 1, [\"question\", \"answer\"]]\n",
    "val_df = qna_df.loc[train_size + test_size: train_size + test_size + val_size - 1, [\"question\", \"answer\"]]"
   ]
  },
  {
   "cell_type": "code",
   "execution_count": 51,
   "id": "ada967af-bc7a-4244-9b6b-9e447e2cc971",
   "metadata": {},
   "outputs": [
    {
     "data": {
      "text/html": [
       "<div>\n",
       "<style scoped>\n",
       "    .dataframe tbody tr th:only-of-type {\n",
       "        vertical-align: middle;\n",
       "    }\n",
       "\n",
       "    .dataframe tbody tr th {\n",
       "        vertical-align: top;\n",
       "    }\n",
       "\n",
       "    .dataframe thead th {\n",
       "        text-align: right;\n",
       "    }\n",
       "</style>\n",
       "<table border=\"1\" class=\"dataframe\">\n",
       "  <thead>\n",
       "    <tr style=\"text-align: right;\">\n",
       "      <th></th>\n",
       "      <th>question</th>\n",
       "      <th>answer</th>\n",
       "    </tr>\n",
       "  </thead>\n",
       "  <tbody>\n",
       "    <tr>\n",
       "      <th>0</th>\n",
       "      <td>I have had a cyst now for 6 months.6weeks ago ...</td>\n",
       "      <td>Welcome to Chat Doctor It needs to be examined...</td>\n",
       "    </tr>\n",
       "    <tr>\n",
       "      <th>1</th>\n",
       "      <td>What are the symptoms of Pili torti ?</td>\n",
       "      <td>What are the signs and symptoms of Pili torti?...</td>\n",
       "    </tr>\n",
       "    <tr>\n",
       "      <th>2</th>\n",
       "      <td>I have a mass just under my ribs on the right ...</td>\n",
       "      <td>Hi, Good Morning. I am Chat Doctor. S.CUTS -su...</td>\n",
       "    </tr>\n",
       "    <tr>\n",
       "      <th>3</th>\n",
       "      <td>My sister is on Xanax, feyntnol patch and a pa...</td>\n",
       "      <td>Welcome to Chat Doctor, Though you have not gi...</td>\n",
       "    </tr>\n",
       "    <tr>\n",
       "      <th>4</th>\n",
       "      <td>Hello. So today I woke up and was perfectly fi...</td>\n",
       "      <td>Thanks for your question on Chat Doctor. I can...</td>\n",
       "    </tr>\n",
       "  </tbody>\n",
       "</table>\n",
       "</div>"
      ],
      "text/plain": [
       "                                            question  \\\n",
       "0  I have had a cyst now for 6 months.6weeks ago ...   \n",
       "1              What are the symptoms of Pili torti ?   \n",
       "2  I have a mass just under my ribs on the right ...   \n",
       "3  My sister is on Xanax, feyntnol patch and a pa...   \n",
       "4  Hello. So today I woke up and was perfectly fi...   \n",
       "\n",
       "                                              answer  \n",
       "0  Welcome to Chat Doctor It needs to be examined...  \n",
       "1  What are the signs and symptoms of Pili torti?...  \n",
       "2  Hi, Good Morning. I am Chat Doctor. S.CUTS -su...  \n",
       "3  Welcome to Chat Doctor, Though you have not gi...  \n",
       "4  Thanks for your question on Chat Doctor. I can...  "
      ]
     },
     "execution_count": 51,
     "metadata": {},
     "output_type": "execute_result"
    }
   ],
   "source": [
    "train_df.head()"
   ]
  },
  {
   "cell_type": "code",
   "execution_count": 52,
   "id": "684ab749-ac92-469d-8e04-ec50566593de",
   "metadata": {},
   "outputs": [
    {
     "data": {
      "text/plain": [
       "((110000, 2), (2000, 2), (300, 2))"
      ]
     },
     "execution_count": 52,
     "metadata": {},
     "output_type": "execute_result"
    }
   ],
   "source": [
    "train_df.shape, test_df.shape, val_df.shape"
   ]
  },
  {
   "cell_type": "code",
   "execution_count": 53,
   "id": "f573dc79-6c15-4cbd-9d1b-013d2644a875",
   "metadata": {},
   "outputs": [],
   "source": [
    "train_df.to_csv(qna_data_path + \"train.csv\", index=False)\n",
    "test_df.to_csv(qna_data_path + \"test.csv\", index=False)\n",
    "val_df.to_csv(qna_data_path + \"val.csv\", index=False)"
   ]
  },
  {
   "cell_type": "code",
   "execution_count": 54,
   "id": "751e3f4b-8028-4abf-81bc-b58d6151883c",
   "metadata": {},
   "outputs": [],
   "source": [
    "qna_df.to_csv(qna_data_path + \"qna_long_seq_filtered.csv\", index=False)"
   ]
  }
 ],
 "metadata": {
  "kernelspec": {
   "display_name": "Python 3 (ipykernel)",
   "language": "python",
   "name": "python3"
  },
  "language_info": {
   "codemirror_mode": {
    "name": "ipython",
    "version": 3
   },
   "file_extension": ".py",
   "mimetype": "text/x-python",
   "name": "python",
   "nbconvert_exporter": "python",
   "pygments_lexer": "ipython3",
   "version": "3.10.12"
  }
 },
 "nbformat": 4,
 "nbformat_minor": 5
}
